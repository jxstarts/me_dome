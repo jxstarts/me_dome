{
 "cells": [
  {
   "cell_type": "markdown",
   "metadata": {},
   "source": [
    "#while循环\n",
    "·一个循环语句\n",
    "·表示当某条件成立的时候，就循环\n",
    "·不知道具体的循环次数，但能确定循环的成立条件的时候就用while循环\n",
    "·while循环语法：\n",
    "    while 条件表达式：\n",
    "        语句块\n",
    "    #另外一种表达方式\n",
    "    while 条件表达式：\n",
    "        语句块1\n",
    "    else：\n",
    "        语句块2"
   ]
  },
  {
   "cell_type": "code",
   "execution_count": 3,
   "metadata": {},
   "outputs": [
    {
     "name": "stdout",
     "output_type": "stream",
     "text": [
      "第1年拿了106700.0块钱\n",
      "第2年拿了113848.9块钱\n",
      "第3年拿了121476.77629999998块钱\n",
      "第4年拿了129615.72031209998块钱\n",
      "第5年拿了138299.97357301068块钱\n",
      "第6年拿了147566.07180240238块钱\n",
      "第7年拿了157452.99861316333块钱\n",
      "第8年拿了168002.34952024528块钱\n",
      "第9年拿了179258.5069381017块钱\n",
      "第10年拿了191268.8269029545块钱\n",
      "第11年拿了204083.83830545243块钱\n"
     ]
    }
   ],
   "source": [
    "#如果说年利率是6.7%，本利是每年翻滚，则多少年后本钱会翻倍\n",
    "benqian = 100000\n",
    "year = 0\n",
    "while benqian <200000:\n",
    "    benqian = benqian *(1+0.067)\n",
    "    year += 1\n",
    "    print(\"第{0}年拿了{1}块钱\".format(year,benqian))\n",
    "    "
   ]
  },
  {
   "cell_type": "code",
   "execution_count": 5,
   "metadata": {},
   "outputs": [
    {
     "name": "stdout",
     "output_type": "stream",
     "text": [
      "第1年拿了106700.0块钱\n",
      "第2年拿了113848.9块钱\n",
      "第3年拿了121476.77629999998块钱\n",
      "第4年拿了129615.72031209998块钱\n",
      "第5年拿了138299.97357301068块钱\n",
      "第6年拿了147566.07180240238块钱\n",
      "第7年拿了157452.99861316333块钱\n",
      "第8年拿了168002.34952024528块钱\n",
      "第9年拿了179258.5069381017块钱\n",
      "第10年拿了191268.8269029545块钱\n",
      "第11年拿了204083.83830545243块钱\n",
      "终于翻倍了\n"
     ]
    }
   ],
   "source": [
    "#如果说年利率是6.7%，本利是每年翻滚，则多少年后本钱会翻倍\n",
    "#如果拿到的钱翻倍，则用print庆祝一下\n",
    "benqian = 100000\n",
    "year = 0\n",
    "while benqian <200000:\n",
    "    benqian = benqian *(1+0.067)\n",
    "    year += 1\n",
    "    print(\"第{0}年拿了{1}块钱\".format(year,benqian))\n",
    "else:\n",
    "    print(\"终于翻倍了\")"
   ]
  },
  {
   "cell_type": "markdown",
   "metadata": {},
   "source": [
    "#函数\n",
    "·代码的一种组织形式\n",
    "·一个函数一般完成一项特定功能\n",
    "·函数的使用\n",
    "    ·函数需要先定义\n",
    "    ·使用函数，需要调用\n",
    "    "
   ]
  },
  {
   "cell_type": "code",
   "execution_count": 7,
   "metadata": {},
   "outputs": [],
   "source": [
    "#定义一个函数\n",
    "#只是定义的话不会执行\n",
    "#1.def关键字，后面跟一个空格\n",
    "#2.函数名，自己定义，起名需要遵循命名规则，不要使用大驼峰，大驼峰命名只给类使用\n",
    "#3.后面括号冒号不能省，括号内可以有参数\n",
    "#4.函数内所有单吗缩进\n",
    "def fun():\n",
    "    print(\"我是一个函数\")\n",
    "    print(\"我执行一定方法\")\n",
    "    print(\"结束\")\n",
    "\n"
   ]
  },
  {
   "cell_type": "code",
   "execution_count": 10,
   "metadata": {},
   "outputs": [
    {
     "name": "stdout",
     "output_type": "stream",
     "text": [
      "我是一个函数\n",
      "我执行一定方法\n",
      "结束\n"
     ]
    }
   ],
   "source": [
    "#函数的调用\n",
    "#直接函数名后面跟括号\n",
    "fun()"
   ]
  },
  {
   "cell_type": "markdown",
   "metadata": {},
   "source": [
    "#函数的参数和返回值\n",
    "·参数：负责给函数传递一些必要的数据或信息\n",
    "    ·形参（形式参数）：在函数定义的时候用到的参数没有具体值，只是一个站位的富豪，称为形参\n",
    "    ·实参（实际参数）：在调用函数的时候输入的值\n",
    "·返回值：函数的执行结果\n",
    "   ·使用return关键字\n",
    "   ·如果没有return，默认返回一个None\n",
    "   ·函数一旦执行return语句，则无条件返回，即结束函数的执行"
   ]
  },
  {
   "cell_type": "code",
   "execution_count": 13,
   "metadata": {},
   "outputs": [
    {
     "name": "stdout",
     "output_type": "stream",
     "text": [
      "清风,你好啊\n"
     ]
    }
   ],
   "source": [
    "#参数的定义和使用\n",
    "#参数person只是一个符号，代表的是调用的时候某一个数据\n",
    "#调用的时候，会用p的值代替函数中所有person\n",
    "def hello(person):\n",
    "    print(\"{0},你好啊\".format(person))\n",
    "    \n",
    "hello(\"清风\")"
   ]
  },
  {
   "cell_type": "code",
   "execution_count": 19,
   "metadata": {},
   "outputs": [
    {
     "name": "stdout",
     "output_type": "stream",
     "text": [
      "清风,你好啊\n",
      "我打完招呼了 \n"
     ]
    }
   ],
   "source": [
    "#return语句的基本使用\n",
    "#函数打完招呼后返回一句话\n",
    "\n",
    "def hello(person):\n",
    "    print(\"{0},你好啊\".format(person))\n",
    "    \n",
    "    return \"我打完招呼了 \"\n",
    "    \n",
    "p = \"清风\"\n",
    "rst = hello(p)\n",
    "\n",
    "print(rst)"
   ]
  },
  {
   "cell_type": "code",
   "execution_count": 21,
   "metadata": {},
   "outputs": [
    {
     "name": "stdout",
     "output_type": "stream",
     "text": [
      "清风,你好啊\n",
      "提前结束\n"
     ]
    }
   ],
   "source": [
    "#return案例2\n",
    "def hello(person):\n",
    "    print(\"{0},你好啊\".format(person))\n",
    "    return \"提前结束\"\n",
    "    print(\"jhahahjasjd\")\n",
    "    return \"我打完招呼了 \"\n",
    "    \n",
    "p = \"清风\"\n",
    "rst = hello(p)\n",
    "\n",
    "print(rst)"
   ]
  },
  {
   "cell_type": "code",
   "execution_count": 39,
   "metadata": {},
   "outputs": [
    {
     "name": "stdout",
     "output_type": "stream",
     "text": [
      "Help on built-in function print in module builtins:\n",
      "\n",
      "print(...)\n",
      "    print(value, ..., sep=' ', end='\\n', file=sys.stdout, flush=False)\n",
      "    \n",
      "    Prints the values to a stream, or to sys.stdout by default.\n",
      "    Optional keyword arguments:\n",
      "    file:  a file-like object (stream); defaults to the current sys.stdout.\n",
      "    sep:   string inserted between values, default a space.\n",
      "    end:   string appended after the last value, default a newline.\n",
      "    flush: whether to forcibly flush the stream.\n",
      "\n"
     ]
    }
   ],
   "source": [
    "#查找函数帮助文档\n",
    "#1.用help函数\n",
    "help(print)"
   ]
  },
  {
   "cell_type": "code",
   "execution_count": 61,
   "metadata": {},
   "outputs": [
    {
     "name": "stdout",
     "output_type": "stream",
     "text": [
      "1 X 1 = 1  \n",
      "\n",
      "2 X 1 = 2  2 X 2 = 4  \n",
      "\n",
      "3 X 1 = 3  3 X 2 = 6  3 X 3 = 9  \n",
      "\n",
      "4 X 1 = 4  4 X 2 = 8  4 X 3 = 12  4 X 4 = 16  \n",
      "\n",
      "5 X 1 = 5  5 X 2 = 10  5 X 3 = 15  5 X 4 = 20  5 X 5 = 25  \n",
      "\n",
      "6 X 1 = 6  6 X 2 = 12  6 X 3 = 18  6 X 4 = 24  6 X 5 = 30  6 X 6 = 36  \n",
      "\n",
      "7 X 1 = 7  7 X 2 = 14  7 X 3 = 21  7 X 4 = 28  7 X 5 = 35  7 X 6 = 42  7 X 7 = 49  \n",
      "\n",
      "8 X 1 = 8  8 X 2 = 16  8 X 3 = 24  8 X 4 = 32  8 X 5 = 40  8 X 6 = 48  8 X 7 = 56  8 X 8 = 64  \n",
      "\n",
      "9 X 1 = 9  9 X 2 = 18  9 X 3 = 27  9 X 4 = 36  9 X 5 = 45  9 X 6 = 54  9 X 7 = 63  9 X 8 = 72  9 X 9 = 81  \n",
      "\n"
     ]
    }
   ],
   "source": [
    "#九九乘法表\n",
    "#varsion 1.0\n",
    "for row in  range(1,10): \n",
    "    for lie in range(1,row+1):\n",
    "        #print 函数默认任务打印完后换行，end控制换行\n",
    "        print(\"{0} X {1} = \".format(row,lie) +str(row * lie),end = \"  \")\n",
    "    print(\"\\n\")"
   ]
  },
  {
   "cell_type": "code",
   "execution_count": 62,
   "metadata": {},
   "outputs": [],
   "source": [
    "#定义一个函数，打印一行九九乘法表\n",
    "def printLine(row):\n",
    "    for lie in range(1,row+1):\n",
    "        #print 函数默认任务打印完后换行 end控制换行\n",
    "        print(\"{0} X {1} = \".format(row,lie) +str(row * lie),end = \"  \")\n",
    "    print(\"\\n\")\n",
    "    "
   ]
  },
  {
   "cell_type": "code",
   "execution_count": 64,
   "metadata": {},
   "outputs": [
    {
     "name": "stdout",
     "output_type": "stream",
     "text": [
      "1 X 1 = 1  \n",
      "\n",
      "2 X 1 = 2  2 X 2 = 4  \n",
      "\n",
      "3 X 1 = 3  3 X 2 = 6  3 X 3 = 9  \n",
      "\n",
      "4 X 1 = 4  4 X 2 = 8  4 X 3 = 12  4 X 4 = 16  \n",
      "\n",
      "5 X 1 = 5  5 X 2 = 10  5 X 3 = 15  5 X 4 = 20  5 X 5 = 25  \n",
      "\n",
      "6 X 1 = 6  6 X 2 = 12  6 X 3 = 18  6 X 4 = 24  6 X 5 = 30  6 X 6 = 36  \n",
      "\n",
      "7 X 1 = 7  7 X 2 = 14  7 X 3 = 21  7 X 4 = 28  7 X 5 = 35  7 X 6 = 42  7 X 7 = 49  \n",
      "\n",
      "8 X 1 = 8  8 X 2 = 16  8 X 3 = 24  8 X 4 = 32  8 X 5 = 40  8 X 6 = 48  8 X 7 = 56  8 X 8 = 64  \n",
      "\n",
      "9 X 1 = 9  9 X 2 = 18  9 X 3 = 27  9 X 4 = 36  9 X 5 = 45  9 X 6 = 54  9 X 7 = 63  9 X 8 = 72  9 X 9 = 81  \n",
      "\n"
     ]
    }
   ],
   "source": [
    "#九九乘法表\n",
    "#version2.0\n",
    "for row in  range(1,10): \n",
    "    printLine(row)"
   ]
  },
  {
   "cell_type": "markdown",
   "metadata": {},
   "source": [
    "#参数详解\n",
    "-[参考资料]（https://www.cnblogs.com/bingabcd/p/6671368.html）\n",
    "-Python参考资料：headfirst python -> 零基础入门学习Python （小甲鱼）->习题->后期可以用考虑腾讯公开免费课\n",
    "-参数分类\n",
    "    -普通参数\n",
    "    -默认参数\n",
    "    -关键字参数\n",
    "    -收集参数\n",
    "-普通参数\n",
    "    ·参见上例子\n",
    "    ·定义的时候直接定义变量名\n",
    "    ·调用的时候直接把变量或者值放入指定位置\n",
    "        def 函数名（参数1，参数2，·····）\n",
    "            函数体\n",
    "    ·调用\n",
    "        函数名（value1，value2，·······）\n",
    "    ·滴啊用的时候，具体值参考的是位置，按位置赋值\n",
    "-默认参数\n",
    "    ·形参带有默认值\n",
    "    ·调用的时候，如果没有对相应形参赋值，则使用默认参数\n",
    "            def fuc_name(p1 = v1, p2 = v2)\n",
    "                fuc_block\n",
    "            调用\n",
    "                fuc_name()\n",
    "            调用2\n",
    "                value1 =100\n",
    "                value2 =200\n",
    "                fuc_name(value1,value2)\n"
   ]
  },
  {
   "cell_type": "code",
   "execution_count": 69,
   "metadata": {},
   "outputs": [
    {
     "name": "stdout",
     "output_type": "stream",
     "text": [
      "1 2 male\n"
     ]
    }
   ],
   "source": [
    "#默认参数示例\n",
    "def reg(name,age,gender=\"male\"):\n",
    "    print(name,age,gender)\n",
    "reg(1,2)"
   ]
  }
 ],
 "metadata": {
  "kernelspec": {
   "display_name": "Python 3",
   "language": "python",
   "name": "python3"
  },
  "language_info": {
   "codemirror_mode": {
    "name": "ipython",
    "version": 3
   },
   "file_extension": ".py",
   "mimetype": "text/x-python",
   "name": "python",
   "nbconvert_exporter": "python",
   "pygments_lexer": "ipython3",
   "version": "3.6.5"
  }
 },
 "nbformat": 4,
 "nbformat_minor": 2
}
