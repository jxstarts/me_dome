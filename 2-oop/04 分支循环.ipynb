{
 "cells": [
  {
   "cell_type": "markdown",
   "metadata": {},
   "source": [
    "#三大结构\n",
    "    ·顺序\n",
    "    ·分支\n",
    "    ·循环"
   ]
  },
  {
   "cell_type": "markdown",
   "metadata": {},
   "source": [
    "#分支\n",
    "    ·if 条件表达式：\n",
    "        语句1\n",
    "        语句2\n",
    "        语句3\n",
    "        ········\n",
    "    ·条件表达式就是计算结果必须为布尔值的表达式\n",
    "    ·表达式后面的冒号不能少\n",
    "    ·注意if后面的语句，如果属于if语块，则必须同一个锁紧等级\n",
    "    ·表达式为True执行if后面的缩进语块\n",
    "    "
   ]
  },
  {
   "cell_type": "code",
   "execution_count": 4,
   "metadata": {},
   "outputs": [
    {
     "ename": "SyntaxError",
     "evalue": "invalid syntax (<ipython-input-4-39016fabe756>, line 8)",
     "output_type": "error",
     "traceback": [
      "\u001b[1;36m  File \u001b[1;32m\"<ipython-input-4-39016fabe756>\"\u001b[1;36m, line \u001b[1;32m8\u001b[0m\n\u001b[1;33m    else\u001b[0m\n\u001b[1;37m       ^\u001b[0m\n\u001b[1;31mSyntaxError\u001b[0m\u001b[1;31m:\u001b[0m invalid syntax\n"
     ]
    }
   ],
   "source": [
    "#if 语句练习\n",
    "#如果age小于18岁打印信息去叫家长\n",
    "age = 17\n",
    "if age <= 18:\n",
    "    print(\"去叫家长\")\n",
    "    print(\"哈哈哈哈11111\")\n",
    "    print(\"1212ssdf\")\n",
    "    "
   ]
  },
  {
   "cell_type": "code",
   "execution_count": 8,
   "metadata": {},
   "outputs": [
    {
     "name": "stdout",
     "output_type": "stream",
     "text": [
      "去叫家长\n",
      "哈哈哈哈11111\n",
      "1212ssdf\n",
      "开课\n"
     ]
    }
   ],
   "source": [
    "#if 语句练习\n",
    "#如果age小于18岁打印信息去叫家长\n",
    "age = 17\n",
    "\n",
    "if age <= 18:\n",
    "    print(\"去叫家长\")\n",
    "    print(\"哈哈哈哈11111\")\n",
    "    print(\"1212ssdf\")\n",
    "    \n",
    "print(\"开课\")"
   ]
  },
  {
   "cell_type": "markdown",
   "metadata": {},
   "source": [
    "#双向分支\n",
    "    ·if······else····语句\n",
    "    if 条件表达式：\n",
    "        语句1\n",
    "        语句2\n",
    "        语句3\n",
    "    else：\n",
    "        语句1\n",
    "        语句2\n",
    "        语句3\n",
    "    ·双向分支有两个分支，当程序执行到if······else····语句的时候，一定会执行if或者else中的一个，也仅只执行一个\n",
    "    ·缩进问题，if和else是一个层级，其余语句一个层级\n",
    "    "
   ]
  },
  {
   "cell_type": "code",
   "execution_count": 18,
   "metadata": {},
   "outputs": [
    {
     "name": "stdout",
     "output_type": "stream",
     "text": [
      "请输入性别：男\n",
      "你输入的性别是：男\n",
      "你是个男人\n"
     ]
    }
   ],
   "source": [
    "#input的作用是\n",
    "#1.在屏幕上输出括号内容的字符串\n",
    "#2.接收用户输入的内容并返回程序\n",
    "#3.input返回内容一定是字符串类型\n",
    "gender = input(\"请输入性别：\")\n",
    "print(\"你输入的性别是：{0}\".format(gender))\n",
    "\n",
    "if gender == \"男\":\n",
    "    print(\"你是个{0}\".format(gender)+\"人\")\n",
    "else:\n",
    "    print(\"你是不是个男人\")\n",
    "    \n",
    "print(\"开始上课了\")\n",
    "    "
   ]
  },
  {
   "cell_type": "markdown",
   "metadata": {},
   "source": [
    "##多项语句分支"
   ]
  },
  {
   "cell_type": "code",
   "execution_count": 45,
   "metadata": {},
   "outputs": [
    {
     "name": "stdout",
     "output_type": "stream",
     "text": [
      "请输入学生成绩：0\n",
      "不及格\n"
     ]
    }
   ],
   "source": [
    "##考试成绩判断\n",
    "#90以上：优秀\n",
    "#80-90：良好\n",
    "#70-80：良\n",
    "#60-70：及格\n",
    "#小于60：不及格\n",
    "score = input(\"请输入学生成绩：\")\n",
    "#类型转换str转换为int\n",
    "score = int(score)\n",
    "if score >= 90 and score <= 100:\n",
    "    print(\"优秀\")\n",
    "if score >= 80 and score < 90:\n",
    "    print(\"良好\")-\n",
    "if score >= 70 and score < 80:\n",
    "    print(\"良\")\n",
    "if score >= 60 and score <70:\n",
    "    print(\"及格\")\n",
    "if score < 60 and score >= 0:\n",
    "    print(\"不及格\")\n",
    "if score < 0 or score >100:\n",
    "    print(\"输入不正确\")"
   ]
  },
  {
   "cell_type": "markdown",
   "metadata": {},
   "source": [
    "##多路分支\n",
    "##冷读术\n",
    "    ·很多分支的情况，简称多路分支\n",
    "        if 条件表达式：\n",
    "            语句\n",
    "            ···\n",
    "        elif 条件表达式：\n",
    "            语句\n",
    "            ···\n",
    "        else：\n",
    "            语句\n",
    "            ·····\n",
    "    ·elif可以有很多个\n",
    "    ·else可选\n",
    "    ·多路分支只会选一个执行\n",
    "    "
   ]
  },
  {
   "cell_type": "code",
   "execution_count": 7,
   "metadata": {},
   "outputs": [
    {
     "name": "stdout",
     "output_type": "stream",
     "text": [
      "请输入学生成绩：100\n",
      "优秀\n"
     ]
    }
   ],
   "source": [
    "##考试成绩判断\n",
    "#90以上：优秀\n",
    "#80-90：良好\n",
    "#70-80：良\n",
    "#60-70：及格\n",
    "#小于60：不及格\n",
    "score = input(\"请输入学生成绩：\")\n",
    "#类型转换str转换为int\n",
    "score = int(score)\n",
    "if score >= 90 and score <= 100:\n",
    "    print(\"优秀\")\n",
    "elif score >= 80 and score < 90:\n",
    "    print(\"良好\")\n",
    "elif score >= 70 and score < 80:\n",
    "    print(\"良\")\n",
    "elif score >= 60 and score <70:\n",
    "    print(\"及格\")\n",
    "elif score < 60 and score >= 0:\n",
    "    print(\"不及格\")\n",
    "else:\n",
    "    print(\"输入不正确\")"
   ]
  },
  {
   "cell_type": "markdown",
   "metadata": {},
   "source": [
    "##if语句其他\n",
    "    ·if语句可以嵌套使用，但不推荐\n",
    "    ·Python没有switch - case语句"
   ]
  },
  {
   "cell_type": "markdown",
   "metadata": {},
   "source": [
    "#循环语句\n",
    "    ·重复执行某些固定动作或者处理基本固定事物\n",
    "    ·分类\n",
    "        ·for循环\n",
    "        ·while循环\n",
    "#for循环\n",
    "    ·for循环\n",
    "        for 变量 in 序列：\n",
    "            语句\n",
    "            ·····"
   ]
  },
  {
   "cell_type": "code",
   "execution_count": 9,
   "metadata": {},
   "outputs": [
    {
     "name": "stdout",
     "output_type": "stream",
     "text": [
      "1\n",
      "2\n",
      "3\n",
      "4\n",
      "5\n"
     ]
    }
   ],
   "source": [
    "#列表就是一列数字或者其他值，一般用中括号表示\n",
    "#例如[1,2,3,4,5]\n",
    "\n",
    "#打印列表数字\n",
    "\n",
    "for name in [1,2,3,4,5]:\n",
    "    print(name)"
   ]
  },
  {
   "cell_type": "code",
   "execution_count": 12,
   "metadata": {},
   "outputs": [
    {
     "name": "stdout",
     "output_type": "stream",
     "text": [
      "1\n",
      "你是数字1\n",
      "2\n",
      "你是数字2\n",
      "3\n",
      "你是小阳数3\n",
      "4\n",
      "你是数字4\n",
      "5\n",
      "你是数字5\n"
     ]
    }
   ],
   "source": [
    "#打印列表数字\n",
    "#如果是3小阳\n",
    "for nub in [1,2,3,4,5]:\n",
    "    print(nub)\n",
    "    if nub == 3:\n",
    "        print(\"你是小阳数{0}\".format(nub))\n",
    "    else:\n",
    "        print(\"你是数字{0}\".format(nub))\n",
    "        "
   ]
  },
  {
   "cell_type": "markdown",
   "metadata": {},
   "source": [
    "##range介绍\n",
    "    ·生成一个数字序列\n",
    "    ·具体范围可以设定\n",
    "    ·注意一般在Python中，如果有表示数字范围的两个数，一般是包含左边数字不包含右边数字\n",
    "    ·randint是特例，他左右都包括\n",
    "    #range函数在Python2 和 Python3中有严重区别"
   ]
  },
  {
   "cell_type": "code",
   "execution_count": 18,
   "metadata": {},
   "outputs": [
    {
     "name": "stdout",
     "output_type": "stream",
     "text": [
      "1\n",
      "2\n",
      "3\n",
      "4\n",
      "5\n",
      "6\n",
      "7\n",
      "8\n",
      "9\n",
      "10\n"
     ]
    }
   ],
   "source": [
    "#range练习\n",
    "#打印从1-10数字\n",
    "for i in range(1,11):\n",
    "    print(i)"
   ]
  },
  {
   "cell_type": "markdown",
   "metadata": {},
   "source": [
    "##for-else 语句\n",
    "    ·当for循环结束的时候,会执行else语句\n",
    "    ·else语句是可选语句"
   ]
  },
  {
   "cell_type": "code",
   "execution_count": 21,
   "metadata": {},
   "outputs": [
    {
     "name": "stdout",
     "output_type": "stream",
     "text": [
      "1\n",
      "你是数字1\n",
      "2\n",
      "你是数字2\n",
      "3\n",
      "你是小阳数3\n",
      "4\n",
      "你是数字4\n",
      "5\n",
      "你是数字5\n",
      "数字够了\n"
     ]
    }
   ],
   "source": [
    "#for-else语句\n",
    "#打印列表数字\n",
    "#如果没有在列表，中或者列表结束了，打印提示语句，数字够了\n",
    "#打印列表数字\n",
    "#如果是3小阳\n",
    "for nub in [1,2,3,4,5]:\n",
    "    print(nub)\n",
    "    if nub == 3:\n",
    "        print(\"你是小阳数{0}\".format(nub))\n",
    "    else:\n",
    "        print(\"你是数字{0}\".format(nub))\n",
    "else:\n",
    "    print(\"数字够了\")"
   ]
  },
  {
   "cell_type": "markdown",
   "metadata": {},
   "source": [
    "##for循环之break，contineu，pass\n",
    "    ·break：无条件结束整个循环，简称循环猝死\n",
    "    ·continue:无条件结束本次循环,进入下一轮循环\n",
    "    ·pass：表示跳过，通常用于站位"
   ]
  },
  {
   "cell_type": "code",
   "execution_count": 24,
   "metadata": {},
   "outputs": [
    {
     "name": "stdout",
     "output_type": "stream",
     "text": [
      "1\n",
      "2\n",
      "3\n",
      "4\n",
      "5\n",
      "6\n",
      "我找到了\n"
     ]
    }
   ],
   "source": [
    "#break语句练习\n",
    "#在1-10数字中，寻找数字7， 一旦找到，打印出来，其余什么都不做\n",
    "#在for循环黄总变量表示，一般用i,k,m,n或者index,id,itm等\n",
    "#在Python中,如果玄幻变量名称不重要,可以用下划线(_)代替\n",
    "for i in range(1,11):\n",
    "    if i == 7:\n",
    "        print(\"我找到了\")\n",
    "        break\n",
    "    else:\n",
    "        print(i)\n",
    "    "
   ]
  },
  {
   "cell_type": "code",
   "execution_count": 25,
   "metadata": {},
   "outputs": [
    {
     "name": "stdout",
     "output_type": "stream",
     "text": [
      "2\n",
      "4\n",
      "6\n",
      "8\n",
      "10\n"
     ]
    }
   ],
   "source": [
    "#continue语句练习\n",
    "#在1-10数字中，寻找偶数， 一旦找到，打印出来，其余什么都不做\n",
    "#在for循环黄总变量表示，一般用i,k,m,n或者index,id,itm等\n",
    "#在Python中,如果玄幻变量名称不重要,可以用下划线(_)代替\n",
    "for i in range(1,11):\n",
    "    if i%2 == 1:\n",
    "        continue\n",
    "    else:\n",
    "        print(i)\n",
    "    "
   ]
  },
  {
   "cell_type": "code",
   "execution_count": 27,
   "metadata": {},
   "outputs": [
    {
     "name": "stdout",
     "output_type": "stream",
     "text": [
      "2\n",
      "4\n",
      "6\n",
      "8\n",
      "10\n"
     ]
    }
   ],
   "source": [
    "#continue语句练习\n",
    "#在1-10数字中，寻找偶数， 一旦找到，打印出来，其余什么都不做\n",
    "#在for循环黄总变量表示，一般用i,k,m,n或者index,id,itm等\n",
    "#在Python中,如果玄幻变量名称不重要,可以用下划线(_)代替\n",
    "for i in range(1,11):\n",
    "    if i%2 == 0:\n",
    "        print(i)\n",
    "    "
   ]
  },
  {
   "cell_type": "code",
   "execution_count": 29,
   "metadata": {},
   "outputs": [
    {
     "name": "stdout",
     "output_type": "stream",
     "text": [
      "2\n",
      "4\n",
      "6\n",
      "8\n",
      "10\n"
     ]
    }
   ],
   "source": [
    "#continue语句练习\n",
    "#在1-10数字中，寻找偶数， 一旦找到，打印出来，其余什么都不做\n",
    "#在for循环黄总变量表示，一般用i,k,m,n或者index,id,itm等\n",
    "#在Python中,如果玄幻变量名称不重要,可以用下划线(_)代替\n",
    "for i in range(1,11):\n",
    "    if i%2 == 1:\n",
    "        continue\n",
    "    print(i)\n",
    "    "
   ]
  },
  {
   "cell_type": "code",
   "execution_count": 32,
   "metadata": {},
   "outputs": [
    {
     "name": "stdout",
     "output_type": "stream",
     "text": [
      "123123123\n",
      "123123123\n",
      "123123123\n",
      "123123123\n",
      "123123123\n",
      "123123123\n",
      "123123123\n",
      "123123123\n",
      "123123123\n",
      "123123123\n"
     ]
    }
   ],
   "source": [
    "#psss例子，一般用于站位\n",
    "#pass没有跳过功能\n",
    "for i in range(1,11):\n",
    "    pass\n",
    "    print(\"123123123\")"
   ]
  }
 ],
 "metadata": {
  "kernelspec": {
   "display_name": "Python 3",
   "language": "python",
   "name": "python3"
  },
  "language_info": {
   "codemirror_mode": {
    "name": "ipython",
    "version": 3
   },
   "file_extension": ".py",
   "mimetype": "text/x-python",
   "name": "python",
   "nbconvert_exporter": "python",
   "pygments_lexer": "ipython3",
   "version": "3.6.5"
  }
 },
 "nbformat": 4,
 "nbformat_minor": 2
}
