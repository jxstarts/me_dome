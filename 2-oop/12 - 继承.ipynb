{
 "cells": [
  {
   "cell_type": "code",
   "execution_count": 12,
   "metadata": {},
   "outputs": [
    {
     "name": "stdout",
     "output_type": "stream",
     "text": [
      "name\n",
      "name\n",
      "jhhhjh\n",
      "sleeping········\n",
      "9556\n",
      "sadsadfsd\n"
     ]
    }
   ],
   "source": [
    "# 继承的语法\n",
    "# 在Python中，任何类都有一个共同的父类叫object\n",
    "class Person():\n",
    "    name = \"name\"\n",
    "    age = 0\n",
    "    __score = 0 #考试是秘密 私有属性\n",
    "    _petname = \"jhhhjh\"#受保护属性，是保护的，子类可以用 但不能公用\n",
    "    def sleep(self):\n",
    "        print(\"sleeping········\")\n",
    "# 父类写在括号内\n",
    "class Teacher(Person):\n",
    "    teacher_id = \"9556\"\n",
    "    \n",
    "    def make_test(self):\n",
    "        print(\"sadsadfsd\")\n",
    "\n",
    "t = Teacher()\n",
    "print(t.name)\n",
    "print(Teacher.name)\n",
    "# 受保护不能外部访问，\n",
    "print(t._petname)\n",
    "#私有访问问题\n",
    "#公开访问私有变量，报错\n",
    "#print(t.__score)\n",
    "t.sleep()\n",
    "print(t.teacher_id)\n",
    "t.make_test()\n"
   ]
  },
  {
   "cell_type": "code",
   "execution_count": 13,
   "metadata": {},
   "outputs": [
    {
     "name": "stdout",
     "output_type": "stream",
     "text": [
      "dddd\n"
     ]
    }
   ],
   "source": [
    "#子类和父类定义同一个名称变量，优先使用子类本身\n",
    "class Person():\n",
    "    name = \"name\"\n",
    "    age = 0\n",
    "    __score = 0 #考试是秘密 私有属性\n",
    "    _petname = \"jhhhjh\"#受保护属性，是保护的，子类可以用 但不能公用\n",
    "    def sleep(self):\n",
    "        print(\"sleeping········\")\n",
    "# 父类写在括号内\n",
    "class Teacher(Person):\n",
    "    name = \"dddd\"\n",
    "    teacher_id = \"9556\"\n",
    "    \n",
    "    def make_test(self):\n",
    "        print(\"sadsadfsd\")\n",
    "       \n",
    "t = Teacher()\n",
    "print(t.name)"
   ]
  },
  {
   "cell_type": "code",
   "execution_count": 20,
   "metadata": {},
   "outputs": [
    {
     "name": "stdout",
     "output_type": "stream",
     "text": [
      "make some money\n",
      "sadsadfsd\n"
     ]
    }
   ],
   "source": [
    "# 子类扩充父类功能案例\n",
    "#人工作 ，老师的工作是讲课\n",
    "class Person():\n",
    "    name = \"name\"\n",
    "    age = 0\n",
    "    __score = 0 #考试是秘密 私有属性\n",
    "    _petname = \"jhhhjh\"#受保护属性，是保护的，子类可以用 但不能公用\n",
    "    def sleep(self):\n",
    "        print(\"sleeping········\")\n",
    "    def work(self):\n",
    "        print(\"make some money\")\n",
    "        \n",
    "# 父类写在括号内\n",
    "class Teacher(Person):\n",
    "    teacher_id = \"9556\"\n",
    "    \n",
    "    def make_test(self):\n",
    "        print(\"sadsadfsd\")\n",
    "    def work(self):\n",
    "        #扩充父类功能只需要调用父类相应的函数\n",
    "        #Person.work(self)\n",
    "        #扩充父类的另一种方法\n",
    "        #super代表得到父类\n",
    "        super().work()\n",
    "        self.make_test()\n",
    "\n",
    "t = Teacher()\n",
    "t.work()"
   ]
  },
  {
   "cell_type": "code",
   "execution_count": 22,
   "metadata": {},
   "outputs": [
    {
     "name": "stdout",
     "output_type": "stream",
     "text": [
      "我是一只狗\n"
     ]
    }
   ],
   "source": [
    "# 构造函数的概念\n",
    "class Dog():\n",
    "    #__init__就是构造函数\n",
    "    #每次实例化的时候，第一个被自动的调用\n",
    "    #因为主要工作室进行初始化，所以得名\n",
    "    def __init__(self):\n",
    "        print(\"我是一只狗\")\n",
    "#实例化的时候，括号内的参数要跟构造函数相匹配\n",
    "dog = Dog()"
   ]
  },
  {
   "cell_type": "code",
   "execution_count": 24,
   "metadata": {},
   "outputs": [
    {
     "name": "stdout",
     "output_type": "stream",
     "text": [
      "我是一只狗\n"
     ]
    }
   ],
   "source": [
    "#继承中的构造函数\n",
    "class Animel():\n",
    "    pass\n",
    "\n",
    "class PaxingAni(Animel):\n",
    "    pass\n",
    "class Dog(PaxingAni):\n",
    "     #__init__就是构造函数\n",
    "    #每次实例化的时候，第一个被自动的调用\n",
    "    #因为主要工作室进行初始化，所以得名\n",
    "    def __init__(self):\n",
    "        print(\"我是一只狗\")\n",
    "        \n",
    "   \n",
    "dog = Dog()"
   ]
  },
  {
   "cell_type": "code",
   "execution_count": 48,
   "metadata": {},
   "outputs": [
    {
     "name": "stdout",
     "output_type": "stream",
     "text": [
      "我是一只狗\n",
      "爬行动物\n"
     ]
    }
   ],
   "source": [
    "#继承中的构造函数2\n",
    "class Animel():\n",
    "    def __init__(self):\n",
    "        print(\"动物\")\n",
    "\n",
    "class PaxingAni(Animel):\n",
    "    def __init__(self):\n",
    "        print(\"爬行动物\")\n",
    "class Dog(PaxingAni):\n",
    "     #__init__就是构造函数\n",
    "    #每次实例化的时候，第一个被自动的调用\n",
    "    #因为主要工作室进行初始化，所以得名\n",
    "    def __init__(self):\n",
    "        print(\"我是一只狗\")\n",
    "        \n",
    "#实例化的时候，自动调用了Dog的构造函数\n",
    "#因为找到了构造函数，则不再查找父类的构造函数\n",
    "dog = Dog()\n",
    "#猫没有写构造函数\n",
    "class Cat(PaxingAni):\n",
    "    pass\n",
    "#此时应该自动调用构造函数，因为Cat没有构造函数，所以查找父类构造函数\n",
    "#在PaxingAni中找到构造函数则停止向上查找\n",
    "cat = Cat()\n"
   ]
  },
  {
   "cell_type": "code",
   "execution_count": 43,
   "metadata": {},
   "outputs": [
    {
     "name": "stdout",
     "output_type": "stream",
     "text": [
      "我是一只狗\n"
     ]
    },
    {
     "ename": "TypeError",
     "evalue": "__init__() missing 1 required positional argument: 'name'",
     "output_type": "error",
     "traceback": [
      "\u001b[1;31m---------------------------------------------------------------------------\u001b[0m",
      "\u001b[1;31mTypeError\u001b[0m                                 Traceback (most recent call last)",
      "\u001b[1;32m<ipython-input-43-f5d346f5f098>\u001b[0m in \u001b[0;36m<module>\u001b[1;34m()\u001b[0m\n\u001b[0;32m     24\u001b[0m \u001b[1;31m#在PaxingAni中找到构造函数则停止向上查找\u001b[0m\u001b[1;33m\u001b[0m\u001b[1;33m\u001b[0m\u001b[0m\n\u001b[0;32m     25\u001b[0m \u001b[1;31m#没有查找到构造函数，向上查找 实例化需要两个参数 传递一个参数 所以报错\u001b[0m\u001b[1;33m\u001b[0m\u001b[1;33m\u001b[0m\u001b[0m\n\u001b[1;32m---> 26\u001b[1;33m \u001b[0mcat\u001b[0m \u001b[1;33m=\u001b[0m \u001b[0mCat\u001b[0m\u001b[1;33m(\u001b[0m\u001b[1;33m)\u001b[0m\u001b[1;33m\u001b[0m\u001b[0m\n\u001b[0m",
      "\u001b[1;31mTypeError\u001b[0m: __init__() missing 1 required positional argument: 'name'"
     ]
    }
   ],
   "source": [
    "#继承中的构造函数3\n",
    "class Animel():\n",
    "    def __init__(self):\n",
    "        print(\"动物\")\n",
    "\n",
    "class PaxingAni(Animel):\n",
    "    def __init__(self,name):\n",
    "        print(\"爬行动物{0}\".format(name))\n",
    "class Dog(PaxingAni):\n",
    "     #__init__就是构造函数\n",
    "    #每次实例化的时候，第一个被自动的调用\n",
    "    #因为主要工作室进行初始化，所以得名\n",
    "    def __init__(self):\n",
    "        print(\"我是一只狗\")\n",
    "        \n",
    "#实例化的时候，自动调用了Dog的构造函数\n",
    "#因为找到了构造函数，则不再查找父类的构造函数\n",
    "#查找到了构造函数，参数匹配\n",
    "dog = Dog()\n",
    "#猫没有写构造函数\n",
    "class Cat(PaxingAni):\n",
    "    pass\n",
    "#此时应该自动调用构造函数，因为Cat没有构造函数，所以查找父类构造函数\n",
    "#在PaxingAni中找到构造函数则停止向上查找\n",
    "#没有查找到构造函数，向上查找 实例化需要两个参数 传递一个参数 所以报错\n",
    "cat = Cat()\n"
   ]
  },
  {
   "cell_type": "code",
   "execution_count": 3,
   "metadata": {},
   "outputs": [
    {
     "name": "stdout",
     "output_type": "stream",
     "text": [
      "我是一只狗\n"
     ]
    }
   ],
   "source": [
    "#继承中的构造函数2\n",
    "class Animel():\n",
    "    def __init__(self):\n",
    "        print(\"动物\")\n",
    "\n",
    "class PaxingAni(Animel):\n",
    "    def __init__(self):\n",
    "        pass\n",
    "    \n",
    "class Dog(PaxingAni):\n",
    "     #__init__就是构造函数\n",
    "    #每次实例化的时候，第一个被自动的调用\n",
    "    #因为主要工作室进行初始化，所以得名\n",
    "    def __init__(self):\n",
    "        print(\"我是一只狗\")\n",
    "        \n",
    "#实例化的时候，自动调用了Dog的构造函数\n",
    "#因为找到了构造函数，则不再查找父类的构造函数\n",
    "dog = Dog()\n",
    "#猫没有写构造函数\n",
    "class Cat(PaxingAni):\n",
    "    pass\n",
    "#此时应该自动调用构造函数，因为Cat没有构造函数，所以查找父类构造函数\n",
    "#在PaxingAni中找到构造函数则停止向上查找\n",
    "cat = Cat()\n"
   ]
  },
  {
   "cell_type": "code",
   "execution_count": 7,
   "metadata": {},
   "outputs": [
    {
     "name": "stdout",
     "output_type": "stream",
     "text": [
      "<class 'type'>\n",
      "Help on class super in module builtins:\n",
      "\n",
      "class super(object)\n",
      " |  super() -> same as super(__class__, <first argument>)\n",
      " |  super(type) -> unbound super object\n",
      " |  super(type, obj) -> bound super object; requires isinstance(obj, type)\n",
      " |  super(type, type2) -> bound super object; requires issubclass(type2, type)\n",
      " |  Typical use to call a cooperative superclass method:\n",
      " |  class C(B):\n",
      " |      def meth(self, arg):\n",
      " |          super().meth(arg)\n",
      " |  This works for class methods too:\n",
      " |  class C(B):\n",
      " |      @classmethod\n",
      " |      def cmeth(cls, arg):\n",
      " |          super().cmeth(arg)\n",
      " |  \n",
      " |  Methods defined here:\n",
      " |  \n",
      " |  __get__(self, instance, owner, /)\n",
      " |      Return an attribute of instance, which is of type owner.\n",
      " |  \n",
      " |  __getattribute__(self, name, /)\n",
      " |      Return getattr(self, name).\n",
      " |  \n",
      " |  __init__(self, /, *args, **kwargs)\n",
      " |      Initialize self.  See help(type(self)) for accurate signature.\n",
      " |  \n",
      " |  __new__(*args, **kwargs) from builtins.type\n",
      " |      Create and return a new object.  See help(type) for accurate signature.\n",
      " |  \n",
      " |  __repr__(self, /)\n",
      " |      Return repr(self).\n",
      " |  \n",
      " |  ----------------------------------------------------------------------\n",
      " |  Data descriptors defined here:\n",
      " |  \n",
      " |  __self__\n",
      " |      the instance invoking super(); may be None\n",
      " |  \n",
      " |  __self_class__\n",
      " |      the type of the instance invoking super(); may be None\n",
      " |  \n",
      " |  __thisclass__\n",
      " |      the class invoking super()\n",
      "\n"
     ]
    }
   ],
   "source": [
    "print(type(super))\n",
    "help(super)"
   ]
  },
  {
   "cell_type": "code",
   "execution_count": null,
   "metadata": {},
   "outputs": [],
   "source": []
  },
  {
   "cell_type": "code",
   "execution_count": null,
   "metadata": {},
   "outputs": [],
   "source": []
  },
  {
   "cell_type": "code",
   "execution_count": null,
   "metadata": {},
   "outputs": [],
   "source": []
  }
 ],
 "metadata": {
  "kernelspec": {
   "display_name": "Python 3",
   "language": "python",
   "name": "python3"
  },
  "language_info": {
   "codemirror_mode": {
    "name": "ipython",
    "version": 3
   },
   "file_extension": ".py",
   "mimetype": "text/x-python",
   "name": "python",
   "nbconvert_exporter": "python",
   "pygments_lexer": "ipython3",
   "version": "3.6.5"
  }
 },
 "nbformat": 4,
 "nbformat_minor": 2
}
