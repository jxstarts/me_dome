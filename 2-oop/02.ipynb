{
 "cells": [
  {
   "cell_type": "markdown",
   "metadata": {},
   "source": [
    "#环境安装\n",
    "·推荐virtualbox + ubuntu\n",
    "·套件推荐 anacond3 + pycharm\n",
    "·如果机器内存大于4G，推荐虚拟机下启动系统\n",
    "·小于4G，推荐Windows下的anaconda+pycharm"
   ]
  },
  {
   "cell_type": "code",
   "execution_count": 4,
   "metadata": {},
   "outputs": [
    {
     "name": "stdout",
     "output_type": "stream",
     "text": [
      "hello world\n"
     ]
    },
    {
     "data": {
      "text/plain": [
       "'\\n多行注释\\n'"
      ]
     },
     "execution_count": 4,
     "metadata": {},
     "output_type": "execute_result"
    }
   ],
   "source": [
    "#代码的作用\n",
    "#1.给人看\n",
    "#2.给机器看\n",
    "#注释\n",
    "print(\"hello world\")#打印hello world\n",
    "'''\n",
    "多行注释\n",
    "'''"
   ]
  },
  {
   "cell_type": "markdown",
   "metadata": {},
   "source": [
    "#注释\n",
    "·机器不执行注释类容\n",
    "·注释一般用自然语言书写\n",
    "·注释的写法\n",
    "    ·行注释：以#号开头，可以单独行，也可以在某行代码后面直接写\n",
    "    ·块注释：好几行代码或者内容，以三个连续的单引号开始三个连续的单引号结束"
   ]
  },
  {
   "cell_type": "code",
   "execution_count": 6,
   "metadata": {},
   "outputs": [
    {
     "ename": "SyntaxError",
     "evalue": "invalid character in identifier (<ipython-input-6-52694e608ee1>, line 2)",
     "output_type": "error",
     "traceback": [
      "\u001b[1;36m  File \u001b[1;32m\"<ipython-input-6-52694e608ee1>\"\u001b[1;36m, line \u001b[1;32m2\u001b[0m\n\u001b[1;33m    ·程序 = 数据结构 + 算法\u001b[0m\n\u001b[1;37m      ^\u001b[0m\n\u001b[1;31mSyntaxError\u001b[0m\u001b[1;31m:\u001b[0m invalid character in identifier\n"
     ]
    }
   ],
   "source": [
    "#变量\n",
    "·程序 = 数据结构 + 算法\n",
    "·变量就是可以重复使用的一个量，或者叫一个代号\n",
    "·变量的命名规则\n",
    "    ·变量的命名可以包含数字，大小写字母，下划线或者更多，但是我们不推荐除了前三种内容之外的符号\n",
    "    ·数字不能打头\n",
    "    ·一般在Python中，以下划线开头的内容具有特殊含义，不建议使用\n",
    "    ·英文大小写敏感\n",
    "    ·推荐：\n",
    "        ·使用具有固定含义的英文单词或者缩写，如srv = server， skt = socket， 一般以POSIX命名规则为主\n",
    "        ·驼峰命名法\n",
    "            ·名称以单词自动连接，且每个单词首字母大小写\n",
    "            ·大驼峰，每个单词第一个字母均大写如 MyFirstlove，一般用于类命名\n",
    "            ·小驼峰，类似大驼峰，单第一个字母小写myFirstlove，一般用越普通变量或函数命名\n",
    "        ·POSIX写法\n",
    "            ·多个单词用下划线链接\n",
    "            ·单词全部小写如 my_first_love\n",
    "    ·保留字和关键字\n",
    "        ·变量命名必须避开，不能跟关键字保留字重复\n",
    "        ·class，def，break，for\n",
    "        "
   ]
  },
  {
   "cell_type": "code",
   "execution_count": 7,
   "metadata": {},
   "outputs": [
    {
     "name": "stdout",
     "output_type": "stream",
     "text": [
      "['False', 'None', 'True', 'and', 'as', 'assert', 'break', 'class', 'continue', 'def', 'del', 'elif', 'else', 'except', 'finally', 'for', 'from', 'global', 'if', 'import', 'in', 'is', 'lambda', 'nonlocal', 'not', 'or', 'pass', 'raise', 'return', 'try', 'while', 'with', 'yield']\n"
     ]
    }
   ],
   "source": [
    "#查看关键字的方法\n",
    "import keyword #引入关键字模块\n",
    "#打印出系统全部关键字\n",
    "print(keyword.kwlist)"
   ]
  },
  {
   "cell_type": "code",
   "execution_count": 8,
   "metadata": {},
   "outputs": [
    {
     "ename": "IndentationError",
     "evalue": "unexpected indent (<ipython-input-8-e0ec7192446b>, line 2)",
     "output_type": "error",
     "traceback": [
      "\u001b[1;36m  File \u001b[1;32m\"<ipython-input-8-e0ec7192446b>\"\u001b[1;36m, line \u001b[1;32m2\u001b[0m\n\u001b[1;33m    ·var_name = var_bvalue\u001b[0m\n\u001b[1;37m    ^\u001b[0m\n\u001b[1;31mIndentationError\u001b[0m\u001b[1;31m:\u001b[0m unexpected indent\n"
     ]
    }
   ],
   "source": [
    "#变量的声明\n",
    "    ·var_name = var_bvalue\n",
    "    ·var1 = var2 = var3 = var_value\n",
    "    ·var1,var2,var3, = v1,v2,v3"
   ]
  },
  {
   "cell_type": "code",
   "execution_count": 11,
   "metadata": {},
   "outputs": [
    {
     "name": "stdout",
     "output_type": "stream",
     "text": [
      "18\n",
      "18\n",
      "18\n",
      "18\n",
      "18\n",
      "12\n",
      "21\n",
      "45\n"
     ]
    }
   ],
   "source": [
    "#定义变量age，把18放入变量age中\n",
    "age = 18\n",
    "print(age)\n",
    "print(18)\n",
    "#给age1，age2，age3放入同一个内容或值\n",
    "age1 = age2 = age3 = 18\n",
    "print(age1)\n",
    "print(age2)\n",
    "print(age3)\n",
    "#一行内给多个变量赋值\n",
    "age4, age5, age6 = 12, 21, 45 \n",
    "print(age4)\n",
    "print(age5)\n",
    "print(age6)"
   ]
  },
  {
   "cell_type": "code",
   "execution_count": 13,
   "metadata": {},
   "outputs": [
    {
     "ename": "IndentationError",
     "evalue": "unexpected indent (<ipython-input-13-e0018176ea2f>, line 2)",
     "output_type": "error",
     "traceback": [
      "\u001b[1;36m  File \u001b[1;32m\"<ipython-input-13-e0018176ea2f>\"\u001b[1;36m, line \u001b[1;32m2\u001b[0m\n\u001b[1;33m    ·严格意义上讲，Python只有一个类型\u001b[0m\n\u001b[1;37m    ^\u001b[0m\n\u001b[1;31mIndentationError\u001b[0m\u001b[1;31m:\u001b[0m unexpected indent\n"
     ]
    }
   ],
   "source": [
    "#变量的类型\n",
    "    ·严格意义上讲，Python只有一个类型\n",
    "    ·标准数据一共六中\n",
    "        ·数字类型 Number\n",
    "        ·字符串类型 str\n",
    "        ·列表 list\n",
    "        ·元组 tuole\n",
    "        ·字典 Dictionary\n",
    "        ·集合 set"
   ]
  },
  {
   "cell_type": "code",
   "execution_count": 14,
   "metadata": {},
   "outputs": [
    {
     "ename": "SyntaxError",
     "evalue": "invalid character in identifier (<ipython-input-14-bcf36cde2a14>, line 2)",
     "output_type": "error",
     "traceback": [
      "\u001b[1;36m  File \u001b[1;32m\"<ipython-input-14-bcf36cde2a14>\"\u001b[1;36m, line \u001b[1;32m2\u001b[0m\n\u001b[1;33m    ·数字类型没有大小限制\u001b[0m\n\u001b[1;37m              ^\u001b[0m\n\u001b[1;31mSyntaxError\u001b[0m\u001b[1;31m:\u001b[0m invalid character in identifier\n"
     ]
    }
   ],
   "source": [
    "# Number 数字类型\n",
    "·数字类型没有大小限制\n",
    "整数\n",
    "    ·没有小数的部分，表示个数的数字\n",
    "    ·自然数，0，负自然数\n",
    "    ·整数分进制\n",
    "        ·二进制\n",
    "            ·机器常用，是计算机唯一能理解的数字，表示为0b开头的0,1代码\n",
    "            ·例如0b010101,0b0110101\n",
    "        ·八进制\n",
    "            ·不常用\n",
    "            ·以0o开头的包含0-7的数字\n",
    "        ·十六进制\n",
    "            ·逢16进1\n",
    "            ·其实是没四位二进制表示一位十六进制数\n",
    "            ·包含0-9，a-f\n",
    "            ·数字上以0x开头表示\n",
    "        ·十进制\n",
    "            ·18，89,178"
   ]
  },
  {
   "cell_type": "code",
   "execution_count": 16,
   "metadata": {},
   "outputs": [
    {
     "name": "stdout",
     "output_type": "stream",
     "text": [
      "18\n",
      "18\n",
      "66\n",
      "255\n"
     ]
    }
   ],
   "source": [
    "age = 18\n",
    "print(18)\n",
    "#二进制\n",
    "age = 0b10010\n",
    "print(age)\n",
    "#八进制\n",
    "age = 0o102\n",
    "print(age)\n",
    "#十六进制\n",
    "age = 0xff #十六进制ff表示1111 1111\n",
    "print(age)\n"
   ]
  },
  {
   "cell_type": "code",
   "execution_count": 18,
   "metadata": {},
   "outputs": [
    {
     "ename": "IndentationError",
     "evalue": "unexpected indent (<ipython-input-18-d1af85a8a8a0>, line 2)",
     "output_type": "error",
     "traceback": [
      "\u001b[1;36m  File \u001b[1;32m\"<ipython-input-18-d1af85a8a8a0>\"\u001b[1;36m, line \u001b[1;32m2\u001b[0m\n\u001b[1;33m    ·计算机里面表示浮点数可以有条件省略\u001b[0m\n\u001b[1;37m    ^\u001b[0m\n\u001b[1;31mIndentationError\u001b[0m\u001b[1;31m:\u001b[0m unexpected indent\n"
     ]
    }
   ],
   "source": [
    "#浮点数（小数）\n",
    "    ·计算机里面表示浮点数可以有条件省略\n",
    "    ·3.1415926\n",
    "    ·3.\n",
    "    ·.5\n",
    "    ·科学计数法\n",
    "        ·定义跟数学定义\n",
    "        ·写法使用e/E后面跟整数表示10的指数\n",
    "        ·176.23 == 1.7634e2\n",
    "        ·0.876 == 8.76e / 1"
   ]
  },
  {
   "cell_type": "code",
   "execution_count": 22,
   "metadata": {},
   "outputs": [
    {
     "name": "stdout",
     "output_type": "stream",
     "text": [
      "156.34\n",
      "0.2\n",
      "0.6\n"
     ]
    }
   ],
   "source": [
    "height = 156.34\n",
    "print(height)\n",
    "\n",
    "shili = 0.2\n",
    "print(shili)\n",
    "\n",
    "shili = .6\n",
    "print(shili)\n"
   ]
  },
  {
   "cell_type": "code",
   "execution_count": 23,
   "metadata": {},
   "outputs": [
    {
     "ename": "SyntaxError",
     "evalue": "invalid character in identifier (<ipython-input-23-02f094ecd274>, line 2)",
     "output_type": "error",
     "traceback": [
      "\u001b[1;36m  File \u001b[1;32m\"<ipython-input-23-02f094ecd274>\"\u001b[1;36m, line \u001b[1;32m2\u001b[0m\n\u001b[1;33m    ·定义通数学定义一致\u001b[0m\n\u001b[1;37m             ^\u001b[0m\n\u001b[1;31mSyntaxError\u001b[0m\u001b[1;31m:\u001b[0m invalid character in identifier\n"
     ]
    }
   ],
   "source": [
    "###复数complex\n",
    "·定义通数学定义一致\n",
    "·一个有实部和虚部构成的数字\n",
    "·虚部用j/J表示\n",
    "·5+3j\n",
    "·3j\n",
    "·（3j）\n"
   ]
  },
  {
   "cell_type": "code",
   "execution_count": 24,
   "metadata": {},
   "outputs": [
    {
     "ename": "SyntaxError",
     "evalue": "invalid character in identifier (<ipython-input-24-4d3c57c33b8b>, line 2)",
     "output_type": "error",
     "traceback": [
      "\u001b[1;36m  File \u001b[1;32m\"<ipython-input-24-4d3c57c33b8b>\"\u001b[1;36m, line \u001b[1;32m2\u001b[0m\n\u001b[1;33m    ·表示真假的值\u001b[0m\n\u001b[1;37m          ^\u001b[0m\n\u001b[1;31mSyntaxError\u001b[0m\u001b[1;31m:\u001b[0m invalid character in identifier\n"
     ]
    }
   ],
   "source": [
    "#布尔值\n",
    "·表示真假的值\n",
    "·只有这两个值真或假，True/False\n",
    "·布尔值可以跟数字直接操作 0/1"
   ]
  },
  {
   "cell_type": "code",
   "execution_count": 27,
   "metadata": {},
   "outputs": [
    {
     "name": "stdout",
     "output_type": "stream",
     "text": [
      "19\n"
     ]
    }
   ],
   "source": [
    "#布尔值的操作\n",
    "age = 18 + True\n",
    "print(age)"
   ]
  },
  {
   "cell_type": "code",
   "execution_count": 28,
   "metadata": {},
   "outputs": [
    {
     "ename": "SyntaxError",
     "evalue": "invalid character in identifier (<ipython-input-28-90678f3d00f2>, line 2)",
     "output_type": "error",
     "traceback": [
      "\u001b[1;36m  File \u001b[1;32m\"<ipython-input-28-90678f3d00f2>\"\u001b[1;36m, line \u001b[1;32m2\u001b[0m\n\u001b[1;33m    ·用来表示一串文字信息\u001b[0m\n\u001b[1;37m              ^\u001b[0m\n\u001b[1;31mSyntaxError\u001b[0m\u001b[1;31m:\u001b[0m invalid character in identifier\n"
     ]
    }
   ],
   "source": [
    "#字符串\n",
    "·用来表示一串文字信息\n",
    "·如何表示\n",
    "    ·单引号\n",
    "    ·双引号\n",
    "    ·三引号（三个单引号或者三个双引号）\n",
    "        ·能够扩起多行信息\n",
    "·单双引号交错使用"
   ]
  },
  {
   "cell_type": "code",
   "execution_count": 31,
   "metadata": {},
   "outputs": [
    {
     "name": "stdout",
     "output_type": "stream",
     "text": [
      "i love 111\n",
      "我爱111\n",
      "\n",
      "123123\n",
      "123123\n",
      "sdfasdfa\n",
      "\n"
     ]
    }
   ],
   "source": [
    "love = \"i love 111\"\n",
    "print(love)\n",
    "\n",
    "love = '我爱111'\n",
    "print(love)\n",
    "#单双引号 交错使用的例子\n",
    "#<a  style = \"color:red\">啊哈哈</a>\n",
    "#用引号表示上面的字符串\n",
    "html = '<a style = \"color:red\"> 啊哈哈 </a>'\n",
    "hemls = '''\n",
    "123123\n",
    "123123\n",
    "sdfasdfa\n",
    "'''\n",
    "print(hemls)"
   ]
  }
 ],
 "metadata": {
  "kernelspec": {
   "display_name": "Python 3",
   "language": "python",
   "name": "python3"
  },
  "language_info": {
   "codemirror_mode": {
    "name": "ipython",
    "version": 3
   },
   "file_extension": ".py",
   "mimetype": "text/x-python",
   "name": "python",
   "nbconvert_exporter": "python",
   "pygments_lexer": "ipython3",
   "version": "3.6.5"
  }
 },
 "nbformat": 4,
 "nbformat_minor": 2
}
