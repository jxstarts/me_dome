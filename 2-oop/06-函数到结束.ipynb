{
 "cells": [
  {
   "cell_type": "markdown",
   "metadata": {},
   "source": [
    "#四类参数\n",
    "·普通参数\n",
    "·默认参数\n",
    "·关键字参数\n",
    "·收集参数\n",
    "##关键字参数开始\n",
    "·语法\n",
    "        def func（p1 = v1 ,p2 = v2`````）\n",
    "            func_body\n",
    "        调用参数：\n",
    "            func（p1=value1,p2 = value2 ）\n",
    "·比较麻烦，但也有好处\n",
    "    ·不容易混淆，一般实参和形参只是按照位置一一对应即可，容易出错\n",
    "    ·使用关键字参数，可以不考虑参数位置\n",
    "    "
   ]
  },
  {
   "cell_type": "code",
   "execution_count": 7,
   "metadata": {},
   "outputs": [
    {
     "name": "stdout",
     "output_type": "stream",
     "text": [
      "i am a student\n",
      "我叫jiingcjao,我今年18岁了，握住home\n"
     ]
    }
   ],
   "source": [
    "#关键字参数案例\n",
    "def stu (name, age, addr):\n",
    "    print(\"i am a student\")\n",
    "    print(\"我叫{0},我今年{1}岁了，握住{2}\".format(name,age,addr))\n",
    "              \n",
    "n = \"jiingcjao\"\n",
    "a = 18\n",
    "addr=\"home\"\n",
    "#普通的参数，只按照位置传递容易出错\n",
    "stu(n,a,addr)"
   ]
  },
  {
   "cell_type": "code",
   "execution_count": 8,
   "metadata": {
    "scrolled": true
   },
   "outputs": [
    {
     "name": "stdout",
     "output_type": "stream",
     "text": [
      "i am a student\n",
      "我叫jiingcjao,我今年18岁了，握住home\n"
     ]
    }
   ],
   "source": [
    "#关键字参数案例\n",
    "def stu (name, age, addr):\n",
    "    print(\"i am a student\")\n",
    "    print(\"我叫{0},我今年{1}岁了，握住{2}\".format(name, age, addr))\n",
    "              \n",
    "n = \"jiingcjao\"\n",
    "a = 18\n",
    "addr=\"home\"\n",
    "#普通的参数，只按照位置传递容易出错\n",
    "stu(name=n, age=a, addr=addr)"
   ]
  },
  {
   "cell_type": "markdown",
   "metadata": {},
   "source": [
    "##收集参数\n",
    "·把没有位置，不能和定义时的参数位置相对应的参数，放入一个特定的数据结构中\n",
    "·语法\n",
    "        def func （*args）:\n",
    "            func_body\n",
    "            按照list使用方式访问args得到传入的参数\n",
    "        调用：\n",
    "            func（p1,p2,p3````）\n",
    "·参数名args不是必须这么写，但是，我们约定俗成直接用args\n",
    "·参数名args前需要有星号 *\n",
    "·收集参数可以和其他参数并存"
   ]
  },
  {
   "cell_type": "code",
   "execution_count": 9,
   "metadata": {},
   "outputs": [
    {
     "name": "stdout",
     "output_type": "stream",
     "text": [
      "大家好\n",
      "<class 'tuple'>\n",
      "sa\n",
      "18\n",
      "changjiang\n",
      "sj\n",
      "wan\n",
      "大家好\n",
      "<class 'tuple'>\n",
      "hehh\n"
     ]
    }
   ],
   "source": [
    "#收集参数案例\n",
    "#函数模拟一个学生进行自我介绍，但具体内容不确定\n",
    "#args把他看做一个list\n",
    "def stu(*args):\n",
    "    print(\"大家好\")\n",
    "    #type函数作用是检测变量的类型\n",
    "    print(type(args))\n",
    "    for item in args:\n",
    "        print(item)\n",
    "\n",
    "stu(\"sa\", 18, \"changjiang\", \"sj\", \"wan\")\n",
    "stu(\"hehh\")"
   ]
  },
  {
   "cell_type": "code",
   "execution_count": 10,
   "metadata": {},
   "outputs": [
    {
     "name": "stdout",
     "output_type": "stream",
     "text": [
      "大家好\n",
      "<class 'tuple'>\n"
     ]
    }
   ],
   "source": [
    "#收集参数案例\n",
    "#说明收集参数可以不带任何参数调用，此时收集参数为空 tuple\n",
    "stu()"
   ]
  },
  {
   "cell_type": "code",
   "execution_count": 11,
   "metadata": {},
   "outputs": [
    {
     "ename": "TypeError",
     "evalue": "stu() got an unexpected keyword argument 'name'",
     "output_type": "error",
     "traceback": [
      "\u001b[1;31m---------------------------------------------------------------------------\u001b[0m",
      "\u001b[1;31mTypeError\u001b[0m                                 Traceback (most recent call last)",
      "\u001b[1;32m<ipython-input-11-189e9b023e9b>\u001b[0m in \u001b[0;36m<module>\u001b[1;34m()\u001b[0m\n\u001b[0;32m      1\u001b[0m \u001b[1;31m#如果关键字格式调用，会出现问题\u001b[0m\u001b[1;33m\u001b[0m\u001b[1;33m\u001b[0m\u001b[0m\n\u001b[1;32m----> 2\u001b[1;33m \u001b[0mstu\u001b[0m\u001b[1;33m(\u001b[0m\u001b[0mname\u001b[0m \u001b[1;33m=\u001b[0m \u001b[1;34m\"12331\"\u001b[0m\u001b[1;33m)\u001b[0m\u001b[1;33m\u001b[0m\u001b[0m\n\u001b[0m",
      "\u001b[1;31mTypeError\u001b[0m: stu() got an unexpected keyword argument 'name'"
     ]
    }
   ],
   "source": [
    "#如果关键字格式调用，会出现问题\n",
    "stu(name = \"12331\")"
   ]
  },
  {
   "cell_type": "markdown",
   "metadata": {},
   "source": [
    "##收集参数之关键字收集参数\n",
    "·把关键字参数按字典格式存入收集参数\n",
    "·语法\n",
    "        def fun(**kwargs)\n",
    "            fun_body\n",
    "        #调用\n",
    "        func（p1=v1,p2=v2``````）\n",
    "        ·kwargs 一般约定俗成\n",
    "        ·调用的时候，把多余的关键字参数放入kwargs\n",
    "        ·访问kwargs需要安字典格式访问"
   ]
  },
  {
   "cell_type": "code",
   "execution_count": 22,
   "metadata": {},
   "outputs": [
    {
     "name": "stdout",
     "output_type": "stream",
     "text": [
      "hello dasdas\n",
      "<class 'dict'>\n",
      "name -> liuyin\n",
      "age -> 19\n",
      "addr -> saassa\n",
      "xx -> 56\n",
      "********************************\n",
      "hello dasdas\n",
      "<class 'dict'>\n",
      "name -> 121\n"
     ]
    }
   ],
   "source": [
    "#收集参数案例\n",
    "#自我介绍\n",
    "#调用需要使用关键字调用\n",
    "def stu (**kwargs):\n",
    "    #在函数体内对于kwargs的使用不用带*号\n",
    "    print(\"hello dasdas\")\n",
    "    print(type(kwargs))\n",
    "    #对于字典的访问，Python2和Python3有区别\n",
    "    for k,v in kwargs.items():\n",
    "        print(k, \"->\", v)\n",
    "\n",
    "stu(name=\"liuyin\", age=19, addr=\"saassa\", xx=56)\n",
    "print(\"****************\"* 2)\n",
    "stu(name=\"121\")"
   ]
  },
  {
   "cell_type": "code",
   "execution_count": 23,
   "metadata": {},
   "outputs": [
    {
     "name": "stdout",
     "output_type": "stream",
     "text": [
      "hello dasdas\n",
      "<class 'dict'>\n"
     ]
    }
   ],
   "source": [
    "#收集参数可以为空案例\n",
    "stu()"
   ]
  },
  {
   "cell_type": "markdown",
   "metadata": {},
   "source": [
    "###收集参数混合调用的顺序问题\n",
    "·收集参数，关键字参数参数，普通参数可以混合使用\n",
    "·使用规则就是，普通参数和关键字参数优先\n",
    "·定义的时候一般找普通参数，关键字参数，收集参数tuple,收集参数dict\n"
   ]
  },
  {
   "cell_type": "code",
   "execution_count": 41,
   "metadata": {},
   "outputs": [
    {
     "name": "stdout",
     "output_type": "stream",
     "text": [
      "hello 大家好\n",
      "我叫asd,今年19大了\n",
      "没爱好\n",
      "********************\n",
      "####################\n",
      "hello 大家好\n",
      "我叫asd,今年19大了\n",
      "爱好是wan\n",
      "********************\n",
      "####################\n",
      "hello 大家好\n",
      "我叫asd,今年19大了\n",
      "爱好是玩\n",
      "********************\n",
      "的点点滴滴\n",
      "sadasd \n",
      "####################\n",
      "hobby2 -> sada\n",
      "hobby3 -> asdasd\n"
     ]
    }
   ],
   "source": [
    "#收集参数混合调用实例\n",
    "#stu模拟一个学生自我介绍\n",
    "def stu(name, age, *args, hobby=\"没有\",   **kwargs):\n",
    "    print(\"hello 大家好\")\n",
    "    print(\"我叫{0},今年{1}大了\".format(name,age))\n",
    "    if hobby == \"没有\":\n",
    "        print(\"没爱好\")\n",
    "    else:\n",
    "        print(\"爱好是{0}\".format(hobby))\n",
    "    print(\"*\" * 20)\n",
    "    \n",
    "    for i in args:\n",
    "        print(i)\n",
    "    print(\"#\" * 20)\n",
    "    \n",
    "    for k, v in kwargs.items():\n",
    "        print(k, \"->\" ,v)\n",
    "        \n",
    "#开始调用函数\n",
    "name = \"asd\"\n",
    "age = 19\n",
    "#调用的不同格式\n",
    "stu(name,age)\n",
    "\n",
    "stu(name, age, hobby=\"wan\" )\n",
    "\n",
    "stu(name, age, \"的点点滴滴\", \"sadasd \", hobby=\"玩\",  hobby2=\"sada\", hobby3=\"asdasd\")"
   ]
  },
  {
   "cell_type": "code",
   "execution_count": null,
   "metadata": {},
   "outputs": [],
   "source": [
    "##收集参数的解包问题\n",
    "·把参数放入list中或者字典中，直接把list/dict中的值放入收集参数中\n",
    "·语法：参看案例"
   ]
  },
  {
   "cell_type": "code",
   "execution_count": 45,
   "metadata": {},
   "outputs": [
    {
     "name": "stdout",
     "output_type": "stream",
     "text": [
      "asdas\n",
      "<class 'str'>\n",
      "0\n",
      "1231\n",
      "<class 'str'>\n",
      "1\n",
      "1sda\n",
      "<class 'int'>\n",
      "2\n",
      "19\n",
      "<class 'int'>\n",
      "3\n",
      "20\n",
      "asdas\n",
      "<class 'list'>\n",
      "0\n",
      "['1sada', 20, 230]\n",
      "asdas\n",
      "<class 'str'>\n",
      "0\n",
      "1sada\n",
      "<class 'int'>\n",
      "1\n",
      "20\n",
      "<class 'int'>\n",
      "2\n",
      "230\n"
     ]
    }
   ],
   "source": [
    "def stu(*args):\n",
    "    print(\"asdas\")\n",
    "    #n 用来表示循环次数\n",
    "    #主要用来测试\n",
    "    n = 0\n",
    "    for i in args:\n",
    "        print(type(i))\n",
    "        print(n)\n",
    "        n += 1\n",
    "        print(i)\n",
    "        \n",
    "stu(\"1231\", \"1sda\", 19, 20)\n",
    "l=list()\n",
    "l.append(\"1sada\")\n",
    "l.append(20)\n",
    "l.append(230)\n",
    "\n",
    "stu(l)\n",
    "#此时，args的表示形式是字典内的一个list类型的元素，即args =([\"1231\", \"1sda\", 19, 20)\n",
    "#很显然违背了最初想法\n",
    "#此时的调用，我们就需要捷豹符号，即调用的时候前面加一个*号\n",
    "stu(*l)"
   ]
  },
  {
   "cell_type": "markdown",
   "metadata": {},
   "source": [
    "#同理dict类型收集参数一样可以解包，但是\n",
    "·对dict类型进行解包\n",
    "·需要用两个*号进行解包"
   ]
  },
  {
   "cell_type": "markdown",
   "metadata": {},
   "source": [
    "#返回值\n",
    "·函数和过程的区别\n",
    "    ·有无返回值\n",
    "·需要用return显示返回内容\n",
    "·如果没有返回，则默认返回Nome\n",
    "·推荐写法，无论有无返回值，最后都要以return 结束"
   ]
  },
  {
   "cell_type": "code",
   "execution_count": 47,
   "metadata": {},
   "outputs": [
    {
     "name": "stdout",
     "output_type": "stream",
     "text": [
      "有返回值\n",
      "1\n",
      "没有返回值\n",
      "None\n"
     ]
    }
   ],
   "source": [
    "#返回值示例\n",
    "def func_1():\n",
    "    print(\"有返回值\")\n",
    "    return 1\n",
    "def func_2():\n",
    "    print(\"没有返回值\")\n",
    "    \n",
    "f1 = func_1()\n",
    "print(f1)\n",
    "f2 = func_2()\n",
    "print(f2)"
   ]
  },
  {
   "cell_type": "code",
   "execution_count": null,
   "metadata": {},
   "outputs": [],
   "source": [
    "#函数文档\n",
    "·函数的文档的作用是对当前函数提供使用相关的参考信息\n",
    "·文档的写法：\n",
    "    ·在函数内部开始的第一行使用三引号字符串定义符\n",
    "    ·一般具有特定形式\n",
    "    ·参看案例\n",
    "·文档查看\n",
    "    ·使用help函数，形如 help（func）\n",
    "    ·使用__doc__ ,参看案例"
   ]
  },
  {
   "cell_type": "code",
   "execution_count": 54,
   "metadata": {},
   "outputs": [],
   "source": [
    "#文档案例\n",
    "#函数stu是模拟一个学生的自我介绍内容\n",
    "def stu (anme ,age, *args):\n",
    "    '''\n",
    "    这是文档\n",
    "    ZHESHI WEND\n",
    "    这是第三行\n",
    "    '''\n",
    "    print(\"this is hanshu stu\")"
   ]
  },
  {
   "cell_type": "code",
   "execution_count": 55,
   "metadata": {},
   "outputs": [
    {
     "name": "stdout",
     "output_type": "stream",
     "text": [
      "Help on function stu in module __main__:\n",
      "\n",
      "stu(anme, age, *args)\n",
      "    这是文档\n",
      "    ZHESHI WEND\n",
      "    这是第三行\n",
      "\n"
     ]
    },
    {
     "data": {
      "text/plain": [
       "'\\n    这是文档\\n    ZHESHI WEND\\n    这是第三行\\n    '"
      ]
     },
     "execution_count": 55,
     "metadata": {},
     "output_type": "execute_result"
    }
   ],
   "source": [
    "#查看文档\n",
    "help(stu)\n",
    "stu.__doc__"
   ]
  }
 ],
 "metadata": {
  "kernelspec": {
   "display_name": "Python 3",
   "language": "python",
   "name": "python3"
  },
  "language_info": {
   "codemirror_mode": {
    "name": "ipython",
    "version": 3
   },
   "file_extension": ".py",
   "mimetype": "text/x-python",
   "name": "python",
   "nbconvert_exporter": "python",
   "pygments_lexer": "ipython3",
   "version": "3.6.5"
  }
 },
 "nbformat": 4,
 "nbformat_minor": 2
}
