{
 "cells": [
  {
   "cell_type": "markdown",
   "metadata": {},
   "source": [
    "#汉诺塔问题\n",
    "#规则：\n",
    "·1.每次只能移动一个\n",
    "·2.任何一次移动，三个塔的状态必须是小盘子在上，大盘子在下\n",
    "方法：\n",
    "    1.  n = 1:直接把A上的盘子移动到c上， A -> c\n",
    "    2.  n = 2：\n",
    "        a.把小盘子从A放到b上，A -> B\n",
    "        b.把大盘子从A放到C上，A -> C\n",
    "        b.把小盘子从B放到C上，B -> C\n",
    "    3.n = 3:\n",
    "        a.把A上的两个盘子，通过C移动到B上去，调用递归实现\n",
    "        b.把A上剩下的最大盘子移到c上，A -> C\n",
    "        c.把B上的盘子借助A移到C上，调用递归\n",
    "    4.n = 4:\n",
    "        a.把A上的n-1个盘子，家住与C，移动到B上去，调用递归\n",
    "        b.把A上最大的盘子，也是唯一一个移动到C上A->C\n",
    "        c.把B上n-1个盘子，借助于A，移动到C上，调用递归"
   ]
  },
  {
   "cell_type": "code",
   "execution_count": 11,
   "metadata": {},
   "outputs": [
    {
     "name": "stdout",
     "output_type": "stream",
     "text": [
      "A -> C\n"
     ]
    }
   ],
   "source": [
    "def hano(n, a, b, c):\n",
    "    '''\n",
    "    汉诺塔的递归实现\n",
    "    n:代表第几个盘子\n",
    "    a:代表第一个塔\n",
    "    b:代表第三个塔\n",
    "    c:代表第三个塔\n",
    "    '''\n",
    "    if n == 1 :\n",
    "        print(a,\"->\",c)\n",
    "        return None\n",
    "    if n == 2:\n",
    "        print(a, \"->\", b)\n",
    "        print(a, \"->\", c)\n",
    "        print(b, \"->\", c)\n",
    "        return None\n",
    "    #把n-1个盘子，从a塔借助于从塔，挪到b塔上去\n",
    "    hano(n-1, a, b, c)\n",
    "    print(a, \"->\", c)\n",
    "    #把n-1个盘子从b塔借助于a塔，挪到c塔上去\n",
    "    hano(n-1, a, b, c)      \n",
    "    \n",
    "a = \"A\"\n",
    "b = \"B\"\n",
    "c = \"C\"\n",
    "\n",
    "n = 1\n",
    "hano(n, a, b, c)"
   ]
  },
  {
   "cell_type": "code",
   "execution_count": 10,
   "metadata": {},
   "outputs": [
    {
     "name": "stdout",
     "output_type": "stream",
     "text": [
      "A -> B\n",
      "A -> C\n",
      "B -> C\n"
     ]
    }
   ],
   "source": [
    "n = 2\n",
    "hano(n, a, b, c)"
   ]
  },
  {
   "cell_type": "code",
   "execution_count": 12,
   "metadata": {},
   "outputs": [
    {
     "name": "stdout",
     "output_type": "stream",
     "text": [
      "A -> B\n",
      "A -> C\n",
      "B -> C\n",
      "A -> C\n",
      "A -> B\n",
      "A -> C\n",
      "B -> C\n"
     ]
    }
   ],
   "source": [
    "n = 3\n",
    "hano(n, a, b, c)"
   ]
  },
  {
   "cell_type": "code",
   "execution_count": 14,
   "metadata": {},
   "outputs": [
    {
     "name": "stdout",
     "output_type": "stream",
     "text": [
      "A -> B\n",
      "A -> C\n",
      "B -> C\n",
      "A -> C\n",
      "A -> B\n",
      "A -> C\n",
      "B -> C\n",
      "A -> C\n",
      "A -> B\n",
      "A -> C\n",
      "B -> C\n",
      "A -> C\n",
      "A -> B\n",
      "A -> C\n",
      "B -> C\n",
      "A -> C\n",
      "A -> B\n",
      "A -> C\n",
      "B -> C\n",
      "A -> C\n",
      "A -> B\n",
      "A -> C\n",
      "B -> C\n",
      "A -> C\n",
      "A -> B\n",
      "A -> C\n",
      "B -> C\n",
      "A -> C\n",
      "A -> B\n",
      "A -> C\n",
      "B -> C\n",
      "A -> C\n",
      "A -> B\n",
      "A -> C\n",
      "B -> C\n",
      "A -> C\n",
      "A -> B\n",
      "A -> C\n",
      "B -> C\n",
      "A -> C\n",
      "A -> B\n",
      "A -> C\n",
      "B -> C\n",
      "A -> C\n",
      "A -> B\n",
      "A -> C\n",
      "B -> C\n",
      "A -> C\n",
      "A -> B\n",
      "A -> C\n",
      "B -> C\n",
      "A -> C\n",
      "A -> B\n",
      "A -> C\n",
      "B -> C\n",
      "A -> C\n",
      "A -> B\n",
      "A -> C\n",
      "B -> C\n",
      "A -> C\n",
      "A -> B\n",
      "A -> C\n",
      "B -> C\n",
      "A -> C\n",
      "A -> B\n",
      "A -> C\n",
      "B -> C\n",
      "A -> C\n",
      "A -> B\n",
      "A -> C\n",
      "B -> C\n",
      "A -> C\n",
      "A -> B\n",
      "A -> C\n",
      "B -> C\n",
      "A -> C\n",
      "A -> B\n",
      "A -> C\n",
      "B -> C\n",
      "A -> C\n",
      "A -> B\n",
      "A -> C\n",
      "B -> C\n",
      "A -> C\n",
      "A -> B\n",
      "A -> C\n",
      "B -> C\n",
      "A -> C\n",
      "A -> B\n",
      "A -> C\n",
      "B -> C\n",
      "A -> C\n",
      "A -> B\n",
      "A -> C\n",
      "B -> C\n",
      "A -> C\n",
      "A -> B\n",
      "A -> C\n",
      "B -> C\n",
      "A -> C\n",
      "A -> B\n",
      "A -> C\n",
      "B -> C\n",
      "A -> C\n",
      "A -> B\n",
      "A -> C\n",
      "B -> C\n",
      "A -> C\n",
      "A -> B\n",
      "A -> C\n",
      "B -> C\n",
      "A -> C\n",
      "A -> B\n",
      "A -> C\n",
      "B -> C\n",
      "A -> C\n",
      "A -> B\n",
      "A -> C\n",
      "B -> C\n",
      "A -> C\n",
      "A -> B\n",
      "A -> C\n",
      "B -> C\n",
      "A -> C\n",
      "A -> B\n",
      "A -> C\n",
      "B -> C\n",
      "A -> C\n",
      "A -> B\n",
      "A -> C\n",
      "B -> C\n",
      "A -> C\n",
      "A -> B\n",
      "A -> C\n",
      "B -> C\n",
      "A -> C\n",
      "A -> B\n",
      "A -> C\n",
      "B -> C\n",
      "A -> C\n",
      "A -> B\n",
      "A -> C\n",
      "B -> C\n",
      "A -> C\n",
      "A -> B\n",
      "A -> C\n",
      "B -> C\n",
      "A -> C\n",
      "A -> B\n",
      "A -> C\n",
      "B -> C\n",
      "A -> C\n",
      "A -> B\n",
      "A -> C\n",
      "B -> C\n",
      "A -> C\n",
      "A -> B\n",
      "A -> C\n",
      "B -> C\n",
      "A -> C\n",
      "A -> B\n",
      "A -> C\n",
      "B -> C\n",
      "A -> C\n",
      "A -> B\n",
      "A -> C\n",
      "B -> C\n",
      "A -> C\n",
      "A -> B\n",
      "A -> C\n",
      "B -> C\n",
      "A -> C\n",
      "A -> B\n",
      "A -> C\n",
      "B -> C\n",
      "A -> C\n",
      "A -> B\n",
      "A -> C\n",
      "B -> C\n",
      "A -> C\n",
      "A -> B\n",
      "A -> C\n",
      "B -> C\n",
      "A -> C\n",
      "A -> B\n",
      "A -> C\n",
      "B -> C\n",
      "A -> C\n",
      "A -> B\n",
      "A -> C\n",
      "B -> C\n",
      "A -> C\n",
      "A -> B\n",
      "A -> C\n",
      "B -> C\n",
      "A -> C\n",
      "A -> B\n",
      "A -> C\n",
      "B -> C\n",
      "A -> C\n",
      "A -> B\n",
      "A -> C\n",
      "B -> C\n",
      "A -> C\n",
      "A -> B\n",
      "A -> C\n",
      "B -> C\n",
      "A -> C\n",
      "A -> B\n",
      "A -> C\n",
      "B -> C\n",
      "A -> C\n",
      "A -> B\n",
      "A -> C\n",
      "B -> C\n",
      "A -> C\n",
      "A -> B\n",
      "A -> C\n",
      "B -> C\n",
      "A -> C\n",
      "A -> B\n",
      "A -> C\n",
      "B -> C\n",
      "A -> C\n",
      "A -> B\n",
      "A -> C\n",
      "B -> C\n",
      "A -> C\n",
      "A -> B\n",
      "A -> C\n",
      "B -> C\n",
      "A -> C\n",
      "A -> B\n",
      "A -> C\n",
      "B -> C\n",
      "A -> C\n",
      "A -> B\n",
      "A -> C\n",
      "B -> C\n",
      "A -> C\n",
      "A -> B\n",
      "A -> C\n",
      "B -> C\n",
      "A -> C\n",
      "A -> B\n",
      "A -> C\n",
      "B -> C\n",
      "A -> C\n",
      "A -> B\n",
      "A -> C\n",
      "B -> C\n",
      "A -> C\n",
      "A -> B\n",
      "A -> C\n",
      "B -> C\n"
     ]
    }
   ],
   "source": [
    "n = 8\n",
    "hano(n, a, b, c)"
   ]
  },
  {
   "cell_type": "markdown",
   "metadata": {},
   "source": [
    "#List(列表)\n",
    "·del：删除命令\n"
   ]
  },
  {
   "cell_type": "code",
   "execution_count": 18,
   "metadata": {},
   "outputs": [
    {
     "name": "stdout",
     "output_type": "stream",
     "text": [
      "83002696\n",
      "83002696\n"
     ]
    }
   ],
   "source": [
    "#del删除\n",
    "#如果使用del之后，id的值和删除的前的不一样，则说明生成了一个新的list\n",
    "a = [1,2,3,4,5,6]\n",
    "print(id(a))\n",
    "del a[2]\n",
    "print(id(a))"
   ]
  },
  {
   "cell_type": "code",
   "execution_count": 20,
   "metadata": {},
   "outputs": [
    {
     "ename": "NameError",
     "evalue": "name 'a' is not defined",
     "output_type": "error",
     "traceback": [
      "\u001b[1;31m---------------------------------------------------------------------------\u001b[0m",
      "\u001b[1;31mNameError\u001b[0m                                 Traceback (most recent call last)",
      "\u001b[1;32m<ipython-input-20-86be96b8ee5f>\u001b[0m in \u001b[0;36m<module>\u001b[1;34m()\u001b[0m\n\u001b[0;32m      1\u001b[0m \u001b[1;31m#del 一个变量后不能再继续使用次变量\u001b[0m\u001b[1;33m\u001b[0m\u001b[1;33m\u001b[0m\u001b[0m\n\u001b[1;32m----> 2\u001b[1;33m \u001b[1;32mdel\u001b[0m \u001b[0ma\u001b[0m\u001b[1;33m\u001b[0m\u001b[0m\n\u001b[0m\u001b[0;32m      3\u001b[0m \u001b[0mprint\u001b[0m\u001b[1;33m(\u001b[0m\u001b[0ma\u001b[0m\u001b[1;33m)\u001b[0m\u001b[1;33m\u001b[0m\u001b[0m\n",
      "\u001b[1;31mNameError\u001b[0m: name 'a' is not defined"
     ]
    }
   ],
   "source": [
    "#del 一个变量后不能再继续使用次变量\n",
    "del a \n",
    "print(a)"
   ]
  },
  {
   "cell_type": "code",
   "execution_count": 22,
   "metadata": {},
   "outputs": [
    {
     "name": "stdout",
     "output_type": "stream",
     "text": [
      "[1, 2, 3, 4, 5, 6, 7, 8, 9]\n"
     ]
    }
   ],
   "source": [
    "#列表相加使用加号链接两个列表\n",
    "a = [1,2,3,4,5,]\n",
    "b = [6,7,]\n",
    "c = [8,9]\n",
    "d = a + b + c\n",
    "print(d)"
   ]
  },
  {
   "cell_type": "code",
   "execution_count": 24,
   "metadata": {},
   "outputs": [
    {
     "name": "stdout",
     "output_type": "stream",
     "text": [
      "[1, 2, 3, 4, 5, 1, 2, 3, 4, 5, 1, 2, 3, 4, 5]\n"
     ]
    }
   ],
   "source": [
    "#使用乘号操作列表\n",
    "#列表直接跟一个数相乘\n",
    "#相当于把n个列表接在一起\n",
    "a = [1,2,3,4,5]\n",
    "n = a * 3\n",
    "print(n)"
   ]
  },
  {
   "cell_type": "code",
   "execution_count": 27,
   "metadata": {},
   "outputs": [
    {
     "name": "stdout",
     "output_type": "stream",
     "text": [
      "True\n"
     ]
    }
   ],
   "source": [
    "#成员资格运算\n",
    "#就是判断一个元素是否在list里面\n",
    "a = [1,2,3,4,5]\n",
    "b = 3\n",
    "\n",
    "c = b in a\n",
    "print(c)\n",
    "b = 4"
   ]
  },
  {
   "cell_type": "code",
   "execution_count": 31,
   "metadata": {},
   "outputs": [
    {
     "name": "stdout",
     "output_type": "stream",
     "text": [
      "True\n"
     ]
    }
   ],
   "source": [
    "#not in \n",
    "a = [1,2,3,4,5]\n",
    "b = 9\n",
    "\n",
    "c = b not in a\n",
    "print(c)"
   ]
  },
  {
   "cell_type": "code",
   "execution_count": 32,
   "metadata": {},
   "outputs": [
    {
     "ename": "SyntaxError",
     "evalue": "invalid character in identifier (<ipython-input-32-cdd874d81382>, line 2)",
     "output_type": "error",
     "traceback": [
      "\u001b[1;36m  File \u001b[1;32m\"<ipython-input-32-cdd874d81382>\"\u001b[1;36m, line \u001b[1;32m2\u001b[0m\n\u001b[1;33m    ·for\u001b[0m\n\u001b[1;37m       ^\u001b[0m\n\u001b[1;31mSyntaxError\u001b[0m\u001b[1;31m:\u001b[0m invalid character in identifier\n"
     ]
    }
   ],
   "source": [
    "#链表的遍历\n",
    "·for\n",
    "·while"
   ]
  },
  {
   "cell_type": "code",
   "execution_count": 35,
   "metadata": {},
   "outputs": [
    {
     "name": "stdout",
     "output_type": "stream",
     "text": [
      "1\n",
      "2\n",
      "3\n",
      "4\n",
      "5\n",
      "6\n"
     ]
    }
   ],
   "source": [
    "#for in list\n",
    "a = [1,2,3,4,5,6]\n",
    "#挨个打印a里面的元素\n",
    "for i in a:\n",
    "    print(i)"
   ]
  },
  {
   "cell_type": "code",
   "execution_count": 38,
   "metadata": {},
   "outputs": [
    {
     "name": "stdout",
     "output_type": "stream",
     "text": [
      "1,2,3,4,5,6\n"
     ]
    }
   ],
   "source": [
    "#for in list\n",
    "a = [\"1,2,3,4,5,6\"]\n",
    "#挨个打印a里面的元素\n",
    "for i in a:\n",
    "    print(i)"
   ]
  },
  {
   "cell_type": "code",
   "execution_count": 40,
   "metadata": {},
   "outputs": [
    {
     "name": "stdout",
     "output_type": "stream",
     "text": [
      "1\n",
      "2\n",
      "3\n",
      "4\n",
      "5\n",
      "6\n",
      "7\n",
      "8\n",
      "9\n",
      "<class 'range'>\n"
     ]
    }
   ],
   "source": [
    "#range\n",
    "for i in range(1,10):\n",
    "    print(i)\n",
    "    \n",
    "print(type(range(1,10)))"
   ]
  },
  {
   "cell_type": "code",
   "execution_count": 44,
   "metadata": {},
   "outputs": [
    {
     "name": "stdout",
     "output_type": "stream",
     "text": [
      "1\n",
      "2\n",
      "3\n",
      "4\n",
      "5\n",
      "6\n"
     ]
    }
   ],
   "source": [
    "#while循环访问list\n",
    "#一般不用while遍历list\n",
    "a = [1,2,3,4,5,6]\n",
    "length = len(a)\n",
    "#index 表示list 的下标\n",
    "index = 0\n",
    "while index < length:\n",
    "    print(a[index])\n",
    "    index += 1"
   ]
  },
  {
   "cell_type": "code",
   "execution_count": 46,
   "metadata": {},
   "outputs": [
    {
     "name": "stdout",
     "output_type": "stream",
     "text": [
      "1asd -> 1\n",
      "asd -> 2\n",
      "sdasd -> 3\n"
     ]
    }
   ],
   "source": [
    "#双层列表循环\n",
    "a = [[\"1asd\",1],[\"asd\",2],[\"sdasd\",3]]\n",
    "for k,v in a:\n",
    "    print(k, \"->\",v)\n"
   ]
  },
  {
   "cell_type": "code",
   "execution_count": 48,
   "metadata": {},
   "outputs": [
    {
     "ename": "ValueError",
     "evalue": "too many values to unpack (expected 2)",
     "output_type": "error",
     "traceback": [
      "\u001b[1;31m---------------------------------------------------------------------------\u001b[0m",
      "\u001b[1;31mValueError\u001b[0m                                Traceback (most recent call last)",
      "\u001b[1;32m<ipython-input-48-9cac2b1da4de>\u001b[0m in \u001b[0;36m<module>\u001b[1;34m()\u001b[0m\n\u001b[0;32m      1\u001b[0m \u001b[1;31m#双层列表循环\u001b[0m\u001b[1;33m\u001b[0m\u001b[1;33m\u001b[0m\u001b[0m\n\u001b[0;32m      2\u001b[0m \u001b[0ma\u001b[0m \u001b[1;33m=\u001b[0m \u001b[1;33m[\u001b[0m\u001b[1;33m[\u001b[0m\u001b[1;34m\"1asd\"\u001b[0m\u001b[1;33m,\u001b[0m\u001b[1;36m1\u001b[0m\u001b[1;33m,\u001b[0m\u001b[1;36m5\u001b[0m\u001b[1;33m]\u001b[0m\u001b[1;33m,\u001b[0m\u001b[1;33m[\u001b[0m\u001b[1;34m\"asd\"\u001b[0m\u001b[1;33m,\u001b[0m\u001b[1;36m2\u001b[0m\u001b[1;33m,\u001b[0m\u001b[1;34m\"sdff\"\u001b[0m\u001b[1;33m]\u001b[0m\u001b[1;33m,\u001b[0m\u001b[1;33m[\u001b[0m\u001b[1;34m\"sdasd\"\u001b[0m\u001b[1;33m,\u001b[0m\u001b[1;36m3\u001b[0m\u001b[1;33m,\u001b[0m\u001b[1;36m6\u001b[0m\u001b[1;33m,\u001b[0m\u001b[1;36m87\u001b[0m\u001b[1;33m,\u001b[0m\u001b[1;36m45\u001b[0m\u001b[1;33m,\u001b[0m\u001b[1;36m2\u001b[0m\u001b[1;33m]\u001b[0m\u001b[1;33m]\u001b[0m\u001b[1;33m\u001b[0m\u001b[0m\n\u001b[1;32m----> 3\u001b[1;33m \u001b[1;32mfor\u001b[0m \u001b[0mk\u001b[0m\u001b[1;33m,\u001b[0m\u001b[0mv\u001b[0m \u001b[1;32min\u001b[0m \u001b[0ma\u001b[0m\u001b[1;33m:\u001b[0m\u001b[1;33m\u001b[0m\u001b[0m\n\u001b[0m\u001b[0;32m      4\u001b[0m     \u001b[0mprint\u001b[0m\u001b[1;33m(\u001b[0m\u001b[0mk\u001b[0m\u001b[1;33m,\u001b[0m \u001b[1;34m\"->\"\u001b[0m\u001b[1;33m,\u001b[0m\u001b[0mv\u001b[0m\u001b[1;33m)\u001b[0m\u001b[1;33m\u001b[0m\u001b[0m\n",
      "\u001b[1;31mValueError\u001b[0m: too many values to unpack (expected 2)"
     ]
    }
   ],
   "source": [
    "#双层列表循环\n",
    "a = [[\"1asd\",1,5],[\"asd\",2,\"sdff\"],[\"sdasd\",3,6,87,45,2]]\n",
    "for k,v in a:\n",
    "    print(k, \"->\",v)\n"
   ]
  },
  {
   "cell_type": "code",
   "execution_count": 52,
   "metadata": {},
   "outputs": [
    {
     "name": "stdout",
     "output_type": "stream",
     "text": [
      "1asd -> 1 -> 5\n",
      "asd -> 2 -> sdff\n",
      "sdasd -> 3 -> 6\n"
     ]
    }
   ],
   "source": [
    "#双层列表循环\n",
    "a = [[\"1asd\",1,5],[\"asd\",2,\"sdff\"],[\"sdasd\",3,6]]\n",
    "#这个例子说明，k，v，w的个数应该跟解包出来的变量个数一致\n",
    "for k,v,w in a:\n",
    "    print(k, \"->\",v,\"->\",w)"
   ]
  },
  {
   "cell_type": "markdown",
   "metadata": {},
   "source": [
    "#列表内涵： list content\n",
    "·通过简单的方法创建列表"
   ]
  },
  {
   "cell_type": "code",
   "execution_count": 54,
   "metadata": {},
   "outputs": [
    {
     "name": "stdout",
     "output_type": "stream",
     "text": [
      "[1, 2, 3]\n"
     ]
    }
   ],
   "source": [
    "#for 创建\n",
    "a = [1,2,3]\n",
    "#用list  a创建一个list b\n",
    "#下面代码的含义是，对于所有a 中的元素，诸葛放入新列表b中\n",
    "b = [i for i in a]\n",
    "print(b)"
   ]
  },
  {
   "cell_type": "code",
   "execution_count": 55,
   "metadata": {},
   "outputs": [
    {
     "name": "stdout",
     "output_type": "stream",
     "text": [
      "[10, 20, 30]\n"
     ]
    }
   ],
   "source": [
    "#对a中所有元素乘以10 生成一个新列表\n",
    "a = [1,2,3]\n",
    "#用list  a创建一个list b\n",
    "#下面代码的含义是，对于所有a 中的元素，诸葛放入新列表b中\n",
    "b = [i*10 for i in a]\n",
    "print(b)"
   ]
  },
  {
   "cell_type": "code",
   "execution_count": 58,
   "metadata": {},
   "outputs": [
    {
     "name": "stdout",
     "output_type": "stream",
     "text": [
      "[2, 4, 6, 8, 10, 12, 14, 16, 18, 20, 22, 24, 26, 28, 30, 32, 34]\n"
     ]
    }
   ],
   "source": [
    "#还可以过滤原来list中的内容并放入新列表\n",
    "#比如原油类表a，需要把a中所有的偶数生成新列表b\n",
    "a = [x for x in range(1,35)]#生成一个1-34的列表\n",
    "b = [m for m in a if m % 2 ==0]\n",
    "print(b)"
   ]
  },
  {
   "cell_type": "code",
   "execution_count": 69,
   "metadata": {},
   "outputs": [
    {
     "name": "stdout",
     "output_type": "stream",
     "text": [
      "[1, 2, 3]\n",
      "[100, 200, 300]\n",
      "[101, 201, 301, 102, 202, 302, 103, 203, 303]\n",
      "101  201  301  102  202  302  103  203  303   \n",
      "[101, 201, 102, 202, 103, 203]\n"
     ]
    }
   ],
   "source": [
    "#列表生成时可以嵌套\n",
    "#有两个列表a,b\n",
    "a = [i for i in range(1,4)]\n",
    "print(a)\n",
    "b = [i for i in range(100, 400) if i % 100 ==0]\n",
    "print(b)\n",
    "\n",
    "#列表生成可以嵌套\n",
    "c = [m+n for m in a for n in b]\n",
    "print(c)\n",
    "#上面代码跟下面代码等价\n",
    "for m in a:\n",
    "    for n in b:\n",
    "        print(m+n, end=\"  \")\n",
    "print(\" \")\n",
    "\n",
    "\n",
    "#嵌套的列表生成式也可以用条件表达式\n",
    "c = [m+n for m in a for n in b if m+n < 250]\n",
    "print(c)"
   ]
  },
  {
   "cell_type": "markdown",
   "metadata": {},
   "source": [
    "#列表的常用函数"
   ]
  },
  {
   "cell_type": "code",
   "execution_count": 72,
   "metadata": {},
   "outputs": [
    {
     "name": "stdout",
     "output_type": "stream",
     "text": [
      "99\n",
      "99\n",
      "python\n"
     ]
    }
   ],
   "source": [
    "#len:求列表的长度\n",
    "a = [x for x in range(1,100)]\n",
    "print(len(a))\n",
    "#max:求列表中的最大值\n",
    "#min:求最小值\n",
    "print(max(a))\n",
    "\n",
    "b = ['man','fin','python']\n",
    "print(max(b))\n",
    "\n"
   ]
  },
  {
   "cell_type": "code",
   "execution_count": 74,
   "metadata": {},
   "outputs": [
    {
     "name": "stdout",
     "output_type": "stream",
     "text": [
      "[1, 2, 3]\n"
     ]
    }
   ],
   "source": [
    "#list:将其他格式数据转换成list\n",
    "a = [1,2,3]\n",
    "print(list(a))"
   ]
  },
  {
   "cell_type": "code",
   "execution_count": 76,
   "metadata": {},
   "outputs": [
    {
     "name": "stdout",
     "output_type": "stream",
     "text": [
      "['i', ' ', 'h', 'a', 'n', 'd', ' ', 'a', ' ', 'n', 'a', 'm', 'e']\n"
     ]
    }
   ],
   "source": [
    "s = \"i hand a name\"\n",
    "print(list(s))"
   ]
  },
  {
   "cell_type": "code",
   "execution_count": 78,
   "metadata": {},
   "outputs": [
    {
     "name": "stdout",
     "output_type": "stream",
     "text": [
      "[12, 13, 14, 15, 16, 17, 18]\n"
     ]
    }
   ],
   "source": [
    "#把 range产生的内容转换成list\n",
    "print(list(range(12,19)))"
   ]
  }
 ],
 "metadata": {
  "kernelspec": {
   "display_name": "Python 3",
   "language": "python",
   "name": "python3"
  },
  "language_info": {
   "codemirror_mode": {
    "name": "ipython",
    "version": 3
   },
   "file_extension": ".py",
   "mimetype": "text/x-python",
   "name": "python",
   "nbconvert_exporter": "python",
   "pygments_lexer": "ipython3",
   "version": "3.6.5"
  }
 },
 "nbformat": 4,
 "nbformat_minor": 2
}
