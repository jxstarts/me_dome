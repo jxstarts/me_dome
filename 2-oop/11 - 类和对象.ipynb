{
 "cells": [
  {
   "cell_type": "code",
   "execution_count": 3,
   "metadata": {},
   "outputs": [
    {
     "name": "stdout",
     "output_type": "stream",
     "text": [
      "name\n"
     ]
    }
   ],
   "source": [
    "class student():\n",
    "    name = \"name\"\n",
    "    age = 18\n",
    "student.__dict__\n",
    "#实例化\n",
    "yueyue = student()\n",
    "yueyue.__dict__\n",
    "print(yueyue.name)\n",
    "\n"
   ]
  },
  {
   "cell_type": "code",
   "execution_count": 4,
   "metadata": {},
   "outputs": [
    {
     "name": "stdout",
     "output_type": "stream",
     "text": [
      "name\n",
      "18\n",
      "5630864\n",
      "505900640\n",
      "********************\n",
      "name\n",
      "18\n",
      "5630864\n",
      "505900640\n"
     ]
    }
   ],
   "source": [
    "class A():\n",
    "    name = \"name\"\n",
    "    age = 18\n",
    "    # 注意say的写法，参数有一个self\n",
    "    def say (self):\n",
    "        self.name = \"xxx\"\n",
    "        self.age = 200\n",
    "#此案例说明\n",
    "#类实例的属性和其对象实例的属性在不对对象的实力属性复制的情况下指向同一变量\n",
    "        \n",
    "#此时，A为类实例\n",
    "print(A.name)\n",
    "print(A.age)\n",
    "#id可以鉴别一个变量和另一个变量是否是同一个变量\n",
    "print(id(A.name))\n",
    "print(id(A.age))\n",
    "\n",
    "print(\"*\" * 20)\n",
    "a = A()\n",
    "\n",
    "print(a.name)\n",
    "print(a.age)\n",
    "print(id(a.name))\n",
    "print(id(a.age))\n"
   ]
  },
  {
   "cell_type": "code",
   "execution_count": 7,
   "metadata": {},
   "outputs": [
    {
     "name": "stdout",
     "output_type": "stream",
     "text": [
      "name\n",
      "18\n",
      "5630864\n",
      "505900640\n",
      "********************\n",
      "{'__module__': '__main__', 'name': 'name', 'age': 18, 'say': <function A.say at 0x0000000004E6EA60>, '__dict__': <attribute '__dict__' of 'A' objects>, '__weakref__': <attribute '__weakref__' of 'A' objects>, '__doc__': None}\n",
      "{}\n",
      "{'name': 'hhhh', 'age': 16}\n",
      "hhhh\n",
      "16\n",
      "82307648\n",
      "505900576\n"
     ]
    }
   ],
   "source": [
    "        \n",
    "#此时，A为类实例\n",
    "print(A.name)\n",
    "print(A.age)\n",
    "#id可以鉴别一个变量和另一个变量是否是同一个变量\n",
    "print(id(A.name))\n",
    "print(id(A.age))\n",
    "\n",
    "print(\"*\" * 20)\n",
    "a = A()\n",
    "print(A.__dict__)\n",
    "print(a.__dict__)\n",
    "a.name = \"hhhh\"\n",
    "a.age = 16\n",
    "print(a.__dict__)\n",
    "print(a.name)\n",
    "print(a.age)\n",
    "print(id(a.name))\n",
    "print(id(a.age))"
   ]
  },
  {
   "cell_type": "code",
   "execution_count": 12,
   "metadata": {},
   "outputs": [
    {
     "name": "stdout",
     "output_type": "stream",
     "text": [
      "my name id xxx \n",
      "my age id 200 \n",
      "my name id xxx \n",
      "my age id 200 \n"
     ]
    }
   ],
   "source": [
    "class student():\n",
    "    name = \"name\"\n",
    "    age = 18\n",
    "    # 注意say的写法，参数有一个self\n",
    "    def say (self):\n",
    "        self.name = \"xxx\"\n",
    "        self.age = 200\n",
    "        print(\"my name id {0} \".format(self.name))\n",
    "        print(\"my age id {0} \".format(self.age))\n",
    "    def sauAge(s):\n",
    "        print(\"my name id {0} \".format(s.name))\n",
    "        print(\"my age id {0} \".format(s.age))\n",
    "\n",
    "xxx = student()\n",
    "xxx.say()\n",
    "xxx.sauAge()"
   ]
  },
  {
   "cell_type": "code",
   "execution_count": 16,
   "metadata": {},
   "outputs": [
    {
     "name": "stdout",
     "output_type": "stream",
     "text": [
      "my name id xxx \n",
      "my age id 200 \n",
      "19\n",
      "name\n",
      "19\n",
      "dsafsfhfdsgjhhjgfkfjkth\n"
     ]
    }
   ],
   "source": [
    "class Teacher():\n",
    "    name = \"name\"\n",
    "    age = 19\n",
    "    def say (self):\n",
    "        self.name = \"xxx\"\n",
    "        self.age = 200\n",
    "        print(\"my name id {0} \".format(self.name))\n",
    "        print(\"my age id {0} \".format(self.age))  \n",
    "        #调用类的成员变量需要用__class__\n",
    "        print(__class__.age)\n",
    "    def sayAgain():\n",
    "        print(__class__.name)\n",
    "        print(__class__.age)\n",
    "        print(\"dsafsfhfdsgjhhjgfkfjkth\")\n",
    "\n",
    "\n",
    "t = Teacher()\n",
    "t.say()\n",
    "#调用绑定类函数使用类名\n",
    "Teacher.sayAgain()"
   ]
  },
  {
   "cell_type": "code",
   "execution_count": 22,
   "metadata": {},
   "outputs": [
    {
     "name": "stdout",
     "output_type": "stream",
     "text": [
      "asdasd\n",
      "55\n",
      "asdasd\n",
      "55\n",
      "name \n",
      "19\n",
      "ggg\n",
      "66\n"
     ]
    }
   ],
   "source": [
    "#关于self的案例\n",
    "\n",
    "class A():\n",
    "    name = \"name \"\n",
    "    age = 19\n",
    "    def __init__(self):\n",
    "        self.name = \"asdasd\"\n",
    "        self.age = 55\n",
    "    def say(self):\n",
    "        print(self.name)\n",
    "        print(self.age)\n",
    "class B():\n",
    "    name = \"ggg\"\n",
    "    age = 66\n",
    "\n",
    "    \n",
    "a = A()\n",
    "#此时，系统会，默认把a作为第一个参数传入函数\n",
    "a.say()\n",
    "#此时，self被a替换\n",
    "A.say(a)\n",
    "\n",
    "#同样可以把A作为参数传入\n",
    "A.say(A)\n",
    "#此时，传入的是类实例B，因为B具有name和age属性，所以不会报错\n",
    "A.say(B)\n",
    "\n",
    "#以上代码，利用了鸭子的模型"
   ]
  },
  {
   "cell_type": "code",
   "execution_count": 31,
   "metadata": {},
   "outputs": [
    {
     "name": "stdout",
     "output_type": "stream",
     "text": [
      "edas\n"
     ]
    },
    {
     "ename": "AttributeError",
     "evalue": "'Person' object has no attribute '__age'",
     "output_type": "error",
     "traceback": [
      "\u001b[1;31m---------------------------------------------------------------------------\u001b[0m",
      "\u001b[1;31mAttributeError\u001b[0m                            Traceback (most recent call last)",
      "\u001b[1;32m<ipython-input-31-213db6b745b5>\u001b[0m in \u001b[0;36m<module>\u001b[1;34m()\u001b[0m\n\u001b[0;32m     12\u001b[0m \u001b[1;31m# __age是私有变量\u001b[0m\u001b[1;33m\u001b[0m\u001b[1;33m\u001b[0m\u001b[0m\n\u001b[0;32m     13\u001b[0m \u001b[1;31m#注意报错信息\u001b[0m\u001b[1;33m\u001b[0m\u001b[1;33m\u001b[0m\u001b[0m\n\u001b[1;32m---> 14\u001b[1;33m \u001b[0mprint\u001b[0m\u001b[1;33m(\u001b[0m\u001b[0mp\u001b[0m\u001b[1;33m.\u001b[0m\u001b[0m__age\u001b[0m\u001b[1;33m)\u001b[0m\u001b[1;33m\u001b[0m\u001b[0m\n\u001b[0m",
      "\u001b[1;31mAttributeError\u001b[0m: 'Person' object has no attribute '__age'"
     ]
    }
   ],
   "source": [
    "#私有变量案例\n",
    "class Person():\n",
    "    # name 是共有成员\n",
    "    name = \"edas\"\n",
    "    # age 是私有成员\n",
    "    __age = 18\n",
    "    \n",
    "    \n",
    "p = Person()\n",
    "#name 是共有变量\n",
    "print(p.name)\n",
    "# __age是私有变量\n",
    "#注意报错信息\n",
    "print(p.__age)\n"
   ]
  },
  {
   "cell_type": "code",
   "execution_count": 32,
   "metadata": {},
   "outputs": [
    {
     "name": "stdout",
     "output_type": "stream",
     "text": [
      "{'__module__': '__main__', 'name': 'edas', '_Person__age': 18, '__dict__': <attribute '__dict__' of 'Person' objects>, '__weakref__': <attribute '__weakref__' of 'Person' objects>, '__doc__': None}\n",
      "19\n"
     ]
    }
   ],
   "source": [
    "# name manglin技术\n",
    "print(Person.__dict__)\n",
    "p._Person__age = 19\n",
    "print(p._Person__age)"
   ]
  },
  {
   "cell_type": "code",
   "execution_count": null,
   "metadata": {},
   "outputs": [],
   "source": []
  }
 ],
 "metadata": {
  "kernelspec": {
   "display_name": "Python 3",
   "language": "python",
   "name": "python3"
  },
  "language_info": {
   "codemirror_mode": {
    "name": "ipython",
    "version": 3
   },
   "file_extension": ".py",
   "mimetype": "text/x-python",
   "name": "python",
   "nbconvert_exporter": "python",
   "pygments_lexer": "ipython3",
   "version": "3.6.5"
  }
 },
 "nbformat": 4,
 "nbformat_minor": 2
}
